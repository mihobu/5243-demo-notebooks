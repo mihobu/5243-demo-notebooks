{
 "cells": [
  {
   "cell_type": "markdown",
   "metadata": {},
   "source": [
    "### CSE 5243 Introduction to Data Mining (AU18)\n",
    "Updated August 27, 2018, by Michael Burkhardt <burkhardt.5@osu.edu>\n",
    "\n",
    "# Summary Statistics using the Iris dataset\n",
    "In this notebook, we'll learn how to do some basic visualizations using the\n",
    "[Pyplot](https://matplotlib.org/api/pyplot_summary.html) modules of\n",
    "[Matplotlib](https://matplotlib.org/).\n",
    "We'll be using the famous [Iris dataset](https://archive.ics.uci.edu/ml/datasets/Iris)."
   ]
  },
  {
   "cell_type": "code",
   "execution_count": 1,
   "metadata": {},
   "outputs": [],
   "source": [
    "import pandas as pd\n",
    "import numpy as np\n",
    "import matplotlib.pyplot as plt\n",
    "%matplotlib inline"
   ]
  },
  {
   "cell_type": "markdown",
   "metadata": {},
   "source": [
    "You may wish to limit the number of decimal places\n",
    "that Pandas displays. This and other options are documented\n",
    "[here](https://pandas.pydata.org/pandas-docs/stable/options.html)."
   ]
  },
  {
   "cell_type": "code",
   "execution_count": 2,
   "metadata": {},
   "outputs": [],
   "source": [
    "pd.options.display.float_format = '{:.2f}'.format\n",
    "#pd.options.display.float_format = '${:,.2f}'.format"
   ]
  },
  {
   "cell_type": "code",
   "execution_count": null,
   "metadata": {},
   "outputs": [],
   "source": [
    "# If you don't already have a copy of the Iris data file, you can download it here.\n",
    "IRISURL = \"https://archive.ics.uci.edu/ml/machine-learning-databases/iris/iris.data\"\n",
    "import urllib\n",
    "urllib.request.urlretrieve (IRISURL, \"data/iris.csv\")"
   ]
  },
  {
   "cell_type": "code",
   "execution_count": 3,
   "metadata": {},
   "outputs": [],
   "source": [
    "iris_columns = ['sepal_length', 'sepal_width', 'petal_length', 'petal_width', 'class']\n",
    "iris = pd.read_csv('data/iris.csv', names=iris_columns)"
   ]
  },
  {
   "cell_type": "code",
   "execution_count": 4,
   "metadata": {},
   "outputs": [
    {
     "data": {
      "text/html": [
       "<div>\n",
       "<style scoped>\n",
       "    .dataframe tbody tr th:only-of-type {\n",
       "        vertical-align: middle;\n",
       "    }\n",
       "\n",
       "    .dataframe tbody tr th {\n",
       "        vertical-align: top;\n",
       "    }\n",
       "\n",
       "    .dataframe thead th {\n",
       "        text-align: right;\n",
       "    }\n",
       "</style>\n",
       "<table border=\"1\" class=\"dataframe\">\n",
       "  <thead>\n",
       "    <tr style=\"text-align: right;\">\n",
       "      <th></th>\n",
       "      <th>sepal_length</th>\n",
       "      <th>sepal_width</th>\n",
       "      <th>petal_length</th>\n",
       "      <th>petal_width</th>\n",
       "      <th>class</th>\n",
       "    </tr>\n",
       "  </thead>\n",
       "  <tbody>\n",
       "    <tr>\n",
       "      <th>72</th>\n",
       "      <td>6.30</td>\n",
       "      <td>2.50</td>\n",
       "      <td>4.90</td>\n",
       "      <td>1.50</td>\n",
       "      <td>Iris-versicolor</td>\n",
       "    </tr>\n",
       "    <tr>\n",
       "      <th>15</th>\n",
       "      <td>5.70</td>\n",
       "      <td>4.40</td>\n",
       "      <td>1.50</td>\n",
       "      <td>0.40</td>\n",
       "      <td>Iris-setosa</td>\n",
       "    </tr>\n",
       "    <tr>\n",
       "      <th>138</th>\n",
       "      <td>6.00</td>\n",
       "      <td>3.00</td>\n",
       "      <td>4.80</td>\n",
       "      <td>1.80</td>\n",
       "      <td>Iris-virginica</td>\n",
       "    </tr>\n",
       "    <tr>\n",
       "      <th>76</th>\n",
       "      <td>6.80</td>\n",
       "      <td>2.80</td>\n",
       "      <td>4.80</td>\n",
       "      <td>1.40</td>\n",
       "      <td>Iris-versicolor</td>\n",
       "    </tr>\n",
       "    <tr>\n",
       "      <th>120</th>\n",
       "      <td>6.90</td>\n",
       "      <td>3.20</td>\n",
       "      <td>5.70</td>\n",
       "      <td>2.30</td>\n",
       "      <td>Iris-virginica</td>\n",
       "    </tr>\n",
       "  </tbody>\n",
       "</table>\n",
       "</div>"
      ],
      "text/plain": [
       "     sepal_length  sepal_width  petal_length  petal_width            class\n",
       "72           6.30         2.50          4.90         1.50  Iris-versicolor\n",
       "15           5.70         4.40          1.50         0.40      Iris-setosa\n",
       "138          6.00         3.00          4.80         1.80   Iris-virginica\n",
       "76           6.80         2.80          4.80         1.40  Iris-versicolor\n",
       "120          6.90         3.20          5.70         2.30   Iris-virginica"
      ]
     },
     "execution_count": 4,
     "metadata": {},
     "output_type": "execute_result"
    }
   ],
   "source": [
    "iris.sample(5)"
   ]
  },
  {
   "cell_type": "markdown",
   "metadata": {},
   "source": [
    "## 1. Frequencies and the Mode\n",
    "\n",
    "As noted in the text:\n",
    "\n",
    "> Notice [...] that for the Iris data set and the _class_ attribute,\n",
    "> the three types of flower all have the same frequency, and therefore,\n",
    "> the notion of a mode is not interesting."
   ]
  },
  {
   "cell_type": "code",
   "execution_count": 5,
   "metadata": {},
   "outputs": [
    {
     "data": {
      "text/plain": [
       "count             150\n",
       "unique              3\n",
       "top       Iris-setosa\n",
       "freq               50\n",
       "Name: class, dtype: object"
      ]
     },
     "execution_count": 5,
     "metadata": {},
     "output_type": "execute_result"
    }
   ],
   "source": [
    "# But here's how you get it anyway:\n",
    "iris['class'].describe()"
   ]
  },
  {
   "cell_type": "code",
   "execution_count": 6,
   "metadata": {},
   "outputs": [
    {
     "data": {
      "text/plain": [
       "Iris-setosa        50\n",
       "Iris-versicolor    50\n",
       "Iris-virginica     50\n",
       "Name: class, dtype: int64"
      ]
     },
     "execution_count": 6,
     "metadata": {},
     "output_type": "execute_result"
    }
   ],
   "source": [
    "# To see the values and counts of all values:\n",
    "iris['class'].value_counts()"
   ]
  },
  {
   "cell_type": "markdown",
   "metadata": {},
   "source": [
    "## 2. Percentiles"
   ]
  },
  {
   "cell_type": "code",
   "execution_count": 7,
   "metadata": {},
   "outputs": [
    {
     "data": {
      "text/plain": [
       "sepal_length   5.80\n",
       "sepal_width    3.00\n",
       "petal_length   4.35\n",
       "petal_width    1.30\n",
       "Name: 0.5, dtype: float64"
      ]
     },
     "execution_count": 7,
     "metadata": {},
     "output_type": "execute_result"
    }
   ],
   "source": [
    "# Use the quantile() method to get a quantile on all continuous attributes at once.\n",
    "iris.quantile(0.5)"
   ]
  },
  {
   "cell_type": "code",
   "execution_count": 8,
   "metadata": {},
   "outputs": [
    {
     "data": {
      "text/html": [
       "<div>\n",
       "<style scoped>\n",
       "    .dataframe tbody tr th:only-of-type {\n",
       "        vertical-align: middle;\n",
       "    }\n",
       "\n",
       "    .dataframe tbody tr th {\n",
       "        vertical-align: top;\n",
       "    }\n",
       "\n",
       "    .dataframe thead th {\n",
       "        text-align: right;\n",
       "    }\n",
       "</style>\n",
       "<table border=\"1\" class=\"dataframe\">\n",
       "  <thead>\n",
       "    <tr style=\"text-align: right;\">\n",
       "      <th></th>\n",
       "      <th>sepal_length</th>\n",
       "      <th>sepal_width</th>\n",
       "      <th>petal_length</th>\n",
       "      <th>petal_width</th>\n",
       "    </tr>\n",
       "  </thead>\n",
       "  <tbody>\n",
       "    <tr>\n",
       "      <th>count</th>\n",
       "      <td>150.00</td>\n",
       "      <td>150.00</td>\n",
       "      <td>150.00</td>\n",
       "      <td>150.00</td>\n",
       "    </tr>\n",
       "    <tr>\n",
       "      <th>mean</th>\n",
       "      <td>5.84</td>\n",
       "      <td>3.05</td>\n",
       "      <td>3.76</td>\n",
       "      <td>1.20</td>\n",
       "    </tr>\n",
       "    <tr>\n",
       "      <th>std</th>\n",
       "      <td>0.83</td>\n",
       "      <td>0.43</td>\n",
       "      <td>1.76</td>\n",
       "      <td>0.76</td>\n",
       "    </tr>\n",
       "    <tr>\n",
       "      <th>min</th>\n",
       "      <td>4.30</td>\n",
       "      <td>2.00</td>\n",
       "      <td>1.00</td>\n",
       "      <td>0.10</td>\n",
       "    </tr>\n",
       "    <tr>\n",
       "      <th>0%</th>\n",
       "      <td>4.30</td>\n",
       "      <td>2.00</td>\n",
       "      <td>1.00</td>\n",
       "      <td>0.10</td>\n",
       "    </tr>\n",
       "    <tr>\n",
       "      <th>10%</th>\n",
       "      <td>4.80</td>\n",
       "      <td>2.50</td>\n",
       "      <td>1.40</td>\n",
       "      <td>0.20</td>\n",
       "    </tr>\n",
       "    <tr>\n",
       "      <th>20%</th>\n",
       "      <td>5.00</td>\n",
       "      <td>2.70</td>\n",
       "      <td>1.50</td>\n",
       "      <td>0.20</td>\n",
       "    </tr>\n",
       "    <tr>\n",
       "      <th>30%</th>\n",
       "      <td>5.27</td>\n",
       "      <td>2.80</td>\n",
       "      <td>1.70</td>\n",
       "      <td>0.40</td>\n",
       "    </tr>\n",
       "    <tr>\n",
       "      <th>40%</th>\n",
       "      <td>5.60</td>\n",
       "      <td>3.00</td>\n",
       "      <td>3.90</td>\n",
       "      <td>1.16</td>\n",
       "    </tr>\n",
       "    <tr>\n",
       "      <th>50%</th>\n",
       "      <td>5.80</td>\n",
       "      <td>3.00</td>\n",
       "      <td>4.35</td>\n",
       "      <td>1.30</td>\n",
       "    </tr>\n",
       "    <tr>\n",
       "      <th>60%</th>\n",
       "      <td>6.10</td>\n",
       "      <td>3.10</td>\n",
       "      <td>4.64</td>\n",
       "      <td>1.50</td>\n",
       "    </tr>\n",
       "    <tr>\n",
       "      <th>70%</th>\n",
       "      <td>6.30</td>\n",
       "      <td>3.20</td>\n",
       "      <td>5.00</td>\n",
       "      <td>1.80</td>\n",
       "    </tr>\n",
       "    <tr>\n",
       "      <th>80%</th>\n",
       "      <td>6.52</td>\n",
       "      <td>3.40</td>\n",
       "      <td>5.32</td>\n",
       "      <td>1.90</td>\n",
       "    </tr>\n",
       "    <tr>\n",
       "      <th>90%</th>\n",
       "      <td>6.90</td>\n",
       "      <td>3.61</td>\n",
       "      <td>5.80</td>\n",
       "      <td>2.20</td>\n",
       "    </tr>\n",
       "    <tr>\n",
       "      <th>100%</th>\n",
       "      <td>7.90</td>\n",
       "      <td>4.40</td>\n",
       "      <td>6.90</td>\n",
       "      <td>2.50</td>\n",
       "    </tr>\n",
       "    <tr>\n",
       "      <th>max</th>\n",
       "      <td>7.90</td>\n",
       "      <td>4.40</td>\n",
       "      <td>6.90</td>\n",
       "      <td>2.50</td>\n",
       "    </tr>\n",
       "  </tbody>\n",
       "</table>\n",
       "</div>"
      ],
      "text/plain": [
       "       sepal_length  sepal_width  petal_length  petal_width\n",
       "count        150.00       150.00        150.00       150.00\n",
       "mean           5.84         3.05          3.76         1.20\n",
       "std            0.83         0.43          1.76         0.76\n",
       "min            4.30         2.00          1.00         0.10\n",
       "0%             4.30         2.00          1.00         0.10\n",
       "10%            4.80         2.50          1.40         0.20\n",
       "20%            5.00         2.70          1.50         0.20\n",
       "30%            5.27         2.80          1.70         0.40\n",
       "40%            5.60         3.00          3.90         1.16\n",
       "50%            5.80         3.00          4.35         1.30\n",
       "60%            6.10         3.10          4.64         1.50\n",
       "70%            6.30         3.20          5.00         1.80\n",
       "80%            6.52         3.40          5.32         1.90\n",
       "90%            6.90         3.61          5.80         2.20\n",
       "100%           7.90         4.40          6.90         2.50\n",
       "max            7.90         4.40          6.90         2.50"
      ]
     },
     "execution_count": 8,
     "metadata": {},
     "output_type": "execute_result"
    }
   ],
   "source": [
    "# Rather than looping, the Pandas describe() method makes this simpler.\n",
    "# We can pass a list of the percentiles we're interested in.\n",
    "iris.describe(percentiles=[0, 0.1, 0.2, 0.3, 0.4, 0.5, 0.6, 0.7, 0.8, 0.9, 1])"
   ]
  },
  {
   "cell_type": "code",
   "execution_count": 10,
   "metadata": {},
   "outputs": [
    {
     "data": {
      "text/html": [
       "<div>\n",
       "<style scoped>\n",
       "    .dataframe tbody tr th:only-of-type {\n",
       "        vertical-align: middle;\n",
       "    }\n",
       "\n",
       "    .dataframe tbody tr th {\n",
       "        vertical-align: top;\n",
       "    }\n",
       "\n",
       "    .dataframe thead th {\n",
       "        text-align: right;\n",
       "    }\n",
       "</style>\n",
       "<table border=\"1\" class=\"dataframe\">\n",
       "  <thead>\n",
       "    <tr style=\"text-align: right;\">\n",
       "      <th></th>\n",
       "      <th>sepal_length</th>\n",
       "      <th>sepal_width</th>\n",
       "      <th>petal_length</th>\n",
       "      <th>petal_width</th>\n",
       "    </tr>\n",
       "  </thead>\n",
       "  <tbody>\n",
       "    <tr>\n",
       "      <th>count</th>\n",
       "      <td>150.00</td>\n",
       "      <td>150.00</td>\n",
       "      <td>150.00</td>\n",
       "      <td>150.00</td>\n",
       "    </tr>\n",
       "    <tr>\n",
       "      <th>mean</th>\n",
       "      <td>5.84</td>\n",
       "      <td>3.05</td>\n",
       "      <td>3.76</td>\n",
       "      <td>1.20</td>\n",
       "    </tr>\n",
       "    <tr>\n",
       "      <th>std</th>\n",
       "      <td>0.83</td>\n",
       "      <td>0.43</td>\n",
       "      <td>1.76</td>\n",
       "      <td>0.76</td>\n",
       "    </tr>\n",
       "    <tr>\n",
       "      <th>min</th>\n",
       "      <td>4.30</td>\n",
       "      <td>2.00</td>\n",
       "      <td>1.00</td>\n",
       "      <td>0.10</td>\n",
       "    </tr>\n",
       "    <tr>\n",
       "      <th>0%</th>\n",
       "      <td>4.30</td>\n",
       "      <td>2.00</td>\n",
       "      <td>1.00</td>\n",
       "      <td>0.10</td>\n",
       "    </tr>\n",
       "    <tr>\n",
       "      <th>10%</th>\n",
       "      <td>4.80</td>\n",
       "      <td>2.50</td>\n",
       "      <td>1.40</td>\n",
       "      <td>0.20</td>\n",
       "    </tr>\n",
       "    <tr>\n",
       "      <th>20%</th>\n",
       "      <td>5.00</td>\n",
       "      <td>2.70</td>\n",
       "      <td>1.50</td>\n",
       "      <td>0.20</td>\n",
       "    </tr>\n",
       "    <tr>\n",
       "      <th>30.0%</th>\n",
       "      <td>5.27</td>\n",
       "      <td>2.80</td>\n",
       "      <td>1.70</td>\n",
       "      <td>0.40</td>\n",
       "    </tr>\n",
       "    <tr>\n",
       "      <th>40%</th>\n",
       "      <td>5.60</td>\n",
       "      <td>3.00</td>\n",
       "      <td>3.90</td>\n",
       "      <td>1.16</td>\n",
       "    </tr>\n",
       "    <tr>\n",
       "      <th>50%</th>\n",
       "      <td>5.80</td>\n",
       "      <td>3.00</td>\n",
       "      <td>4.35</td>\n",
       "      <td>1.30</td>\n",
       "    </tr>\n",
       "    <tr>\n",
       "      <th>60.0%</th>\n",
       "      <td>6.10</td>\n",
       "      <td>3.10</td>\n",
       "      <td>4.64</td>\n",
       "      <td>1.50</td>\n",
       "    </tr>\n",
       "    <tr>\n",
       "      <th>70%</th>\n",
       "      <td>6.30</td>\n",
       "      <td>3.20</td>\n",
       "      <td>5.00</td>\n",
       "      <td>1.80</td>\n",
       "    </tr>\n",
       "    <tr>\n",
       "      <th>80%</th>\n",
       "      <td>6.52</td>\n",
       "      <td>3.40</td>\n",
       "      <td>5.32</td>\n",
       "      <td>1.90</td>\n",
       "    </tr>\n",
       "    <tr>\n",
       "      <th>90%</th>\n",
       "      <td>6.90</td>\n",
       "      <td>3.61</td>\n",
       "      <td>5.80</td>\n",
       "      <td>2.20</td>\n",
       "    </tr>\n",
       "    <tr>\n",
       "      <th>100%</th>\n",
       "      <td>7.90</td>\n",
       "      <td>4.40</td>\n",
       "      <td>6.90</td>\n",
       "      <td>2.50</td>\n",
       "    </tr>\n",
       "    <tr>\n",
       "      <th>max</th>\n",
       "      <td>7.90</td>\n",
       "      <td>4.40</td>\n",
       "      <td>6.90</td>\n",
       "      <td>2.50</td>\n",
       "    </tr>\n",
       "  </tbody>\n",
       "</table>\n",
       "</div>"
      ],
      "text/plain": [
       "       sepal_length  sepal_width  petal_length  petal_width\n",
       "count        150.00       150.00        150.00       150.00\n",
       "mean           5.84         3.05          3.76         1.20\n",
       "std            0.83         0.43          1.76         0.76\n",
       "min            4.30         2.00          1.00         0.10\n",
       "0%             4.30         2.00          1.00         0.10\n",
       "10%            4.80         2.50          1.40         0.20\n",
       "20%            5.00         2.70          1.50         0.20\n",
       "30.0%          5.27         2.80          1.70         0.40\n",
       "40%            5.60         3.00          3.90         1.16\n",
       "50%            5.80         3.00          4.35         1.30\n",
       "60.0%          6.10         3.10          4.64         1.50\n",
       "70%            6.30         3.20          5.00         1.80\n",
       "80%            6.52         3.40          5.32         1.90\n",
       "90%            6.90         3.61          5.80         2.20\n",
       "100%           7.90         4.40          6.90         2.50\n",
       "max            7.90         4.40          6.90         2.50"
      ]
     },
     "execution_count": 10,
     "metadata": {},
     "output_type": "execute_result"
    }
   ],
   "source": [
    "# Note: you can also do this using the numpy arange() method(),\n",
    "# but you'll notice the effects of floating point errors.\n",
    "iris.describe(percentiles=np.arange(0, 1.1, 0.1))"
   ]
  },
  {
   "cell_type": "code",
   "execution_count": 11,
   "metadata": {},
   "outputs": [
    {
     "data": {
      "text/plain": [
       "array([0. , 0.1, 0.2, 0.3, 0.4, 0.5, 0.6, 0.7, 0.8, 0.9])"
      ]
     },
     "execution_count": 11,
     "metadata": {},
     "output_type": "execute_result"
    }
   ],
   "source": [
    "np.arange(0, 1, 0.1)"
   ]
  },
  {
   "cell_type": "markdown",
   "metadata": {},
   "source": [
    "## 3. Measures of Location: Mean and Median\n",
    "\n",
    "We've already seen how to find the mean and median. (See above.)\n",
    "\n",
    "It may occasionally be useful to find the trimmed mean, as described in chapter 3. (See note below.) For this, we'll need another library called [SciPy](https://docs.scipy.org/doc/scipy/reference/).\n",
    "\n",
    "\\* Note: The **trimmed mean** is described in §3.2.3 of _Introduction to Data Mining_ (1st ed.) by Tan, et al. This chapter has been omitted from the second edition, but you can download it for free\n",
    "[here](https://www-users.cs.umn.edu/~kumar001/dmbook/data_exploration_1st_edition.pdf)."
   ]
  },
  {
   "cell_type": "code",
   "execution_count": 13,
   "metadata": {},
   "outputs": [],
   "source": [
    "from scipy.stats import trim_mean"
   ]
  },
  {
   "cell_type": "code",
   "execution_count": 14,
   "metadata": {},
   "outputs": [
    {
     "name": "stdout",
     "output_type": "stream",
     "text": [
      "Median      :  3.50\n",
      "Mean        : 17.50\n",
      "Trimmed Mean:  3.50\n"
     ]
    }
   ],
   "source": [
    "# Example 3.3\n",
    "e33 = [1, 2, 3, 4, 5, 90]\n",
    "print(\"Median      : %5.2f\" % (np.median(e33)))\n",
    "print(\"Mean        : %5.2f\" % (np.mean(e33)))\n",
    "print(\"Trimmed Mean: %5.2f\" % (trim_mean(e33, proportiontocut=0.4)))\n",
    "#trim_mean(e33)"
   ]
  },
  {
   "cell_type": "code",
   "execution_count": 15,
   "metadata": {},
   "outputs": [
    {
     "data": {
      "text/html": [
       "<div>\n",
       "<style scoped>\n",
       "    .dataframe tbody tr th:only-of-type {\n",
       "        vertical-align: middle;\n",
       "    }\n",
       "\n",
       "    .dataframe tbody tr th {\n",
       "        vertical-align: top;\n",
       "    }\n",
       "\n",
       "    .dataframe thead th {\n",
       "        text-align: right;\n",
       "    }\n",
       "</style>\n",
       "<table border=\"1\" class=\"dataframe\">\n",
       "  <thead>\n",
       "    <tr style=\"text-align: right;\">\n",
       "      <th></th>\n",
       "      <th>sepal_length</th>\n",
       "      <th>sepal_width</th>\n",
       "      <th>petal_length</th>\n",
       "      <th>petal_width</th>\n",
       "    </tr>\n",
       "  </thead>\n",
       "  <tbody>\n",
       "    <tr>\n",
       "      <th>mean</th>\n",
       "      <td>5.84</td>\n",
       "      <td>3.05</td>\n",
       "      <td>3.76</td>\n",
       "      <td>1.20</td>\n",
       "    </tr>\n",
       "    <tr>\n",
       "      <th>median</th>\n",
       "      <td>5.80</td>\n",
       "      <td>3.00</td>\n",
       "      <td>4.35</td>\n",
       "      <td>1.30</td>\n",
       "    </tr>\n",
       "    <tr>\n",
       "      <th>trimmed mean (20%)</th>\n",
       "      <td>5.80</td>\n",
       "      <td>3.04</td>\n",
       "      <td>3.84</td>\n",
       "      <td>1.20</td>\n",
       "    </tr>\n",
       "  </tbody>\n",
       "</table>\n",
       "</div>"
      ],
      "text/plain": [
       "                   sepal_length sepal_width petal_length petal_width\n",
       "mean                       5.84        3.05         3.76        1.20\n",
       "median                     5.80        3.00         4.35        1.30\n",
       "trimmed mean (20%)         5.80        3.04         3.84        1.20"
      ]
     },
     "execution_count": 15,
     "metadata": {},
     "output_type": "execute_result"
    }
   ],
   "source": [
    "# Example 3.4\n",
    "tcols = ['Measure', 'mean', 'median', 'trimmed mean (20%)']\n",
    "df = pd.DataFrame(columns=tcols)\n",
    "for v in iris_columns[0:4]:\n",
    "    c = {\n",
    "        'Measure': v,\n",
    "        'mean':    iris[v].mean(),\n",
    "        'median':  iris[v].median(),\n",
    "        'trimmed mean (20%)': trim_mean(iris[v], 0.2)\n",
    "    }\n",
    "    df = df.append(c, ignore_index=True)\n",
    "\n",
    "# Manipulate the data frame we just built so it's formatted in a way\n",
    "# similar to Table 3.3\n",
    "df = df.transpose()\n",
    "df.columns = iris_columns[0:4]\n",
    "df.drop(df.index[0], inplace=True)\n",
    "df"
   ]
  },
  {
   "cell_type": "markdown",
   "metadata": {},
   "source": [
    "## 4. Measures of Spread: Range and Variance"
   ]
  },
  {
   "cell_type": "code",
   "execution_count": 16,
   "metadata": {},
   "outputs": [
    {
     "data": {
      "text/plain": [
       "sepal_length   0.83\n",
       "sepal_width    0.43\n",
       "petal_length   1.76\n",
       "petal_width    0.76\n",
       "dtype: float64"
      ]
     },
     "execution_count": 16,
     "metadata": {},
     "output_type": "execute_result"
    }
   ],
   "source": [
    "# Standard deviation is included in describe() output, but just in case...\n",
    "iris.std()"
   ]
  },
  {
   "cell_type": "code",
   "execution_count": 17,
   "metadata": {},
   "outputs": [
    {
     "data": {
      "text/plain": [
       "array([3.6000000000000005, 2.4000000000000004, 5.9, 2.4], dtype=object)"
      ]
     },
     "execution_count": 17,
     "metadata": {},
     "output_type": "execute_result"
    }
   ],
   "source": [
    "# Computing ranges is a bit more cumbersome:\n",
    "iris_min = iris.min().values[0:4]\n",
    "iris_max = iris.max().values[0:4]\n",
    "iris_max-iris_min"
   ]
  },
  {
   "cell_type": "code",
   "execution_count": 18,
   "metadata": {},
   "outputs": [
    {
     "data": {
      "text/plain": [
       "sepal_length           4.30\n",
       "sepal_width            2.00\n",
       "petal_length           1.00\n",
       "petal_width            0.10\n",
       "class           Iris-setosa\n",
       "dtype: object"
      ]
     },
     "execution_count": 18,
     "metadata": {},
     "output_type": "execute_result"
    }
   ],
   "source": [
    "iris.min()"
   ]
  },
  {
   "cell_type": "markdown",
   "metadata": {},
   "source": [
    "More robust measures of spread:"
   ]
  },
  {
   "cell_type": "code",
   "execution_count": 19,
   "metadata": {},
   "outputs": [],
   "source": [
    "# absolute average deviation\n",
    "def AAD(x,axis=None):  \n",
    "       mean = np.mean(x,axis=axis)  \n",
    "       return np.sum(np.abs(x-mean))/(1.0 * len(x))"
   ]
  },
  {
   "cell_type": "code",
   "execution_count": 20,
   "metadata": {},
   "outputs": [
    {
     "data": {
      "text/plain": [
       "0.6875555555555557"
      ]
     },
     "execution_count": 20,
     "metadata": {},
     "output_type": "execute_result"
    }
   ],
   "source": [
    "AAD(iris['sepal_length'])"
   ]
  },
  {
   "cell_type": "code",
   "execution_count": 21,
   "metadata": {},
   "outputs": [],
   "source": [
    "# median absolute deviation\n",
    "def MAD(x,axis=None):  \n",
    "       median = np.median(x,axis=axis)  \n",
    "       return np.median(np.abs(x-median)) "
   ]
  },
  {
   "cell_type": "code",
   "execution_count": 22,
   "metadata": {},
   "outputs": [
    {
     "data": {
      "text/plain": [
       "0.7000000000000002"
      ]
     },
     "execution_count": 22,
     "metadata": {},
     "output_type": "execute_result"
    }
   ],
   "source": [
    "MAD(iris['sepal_length'])"
   ]
  },
  {
   "cell_type": "code",
   "execution_count": 23,
   "metadata": {},
   "outputs": [
    {
     "data": {
      "text/plain": [
       "1.3000000000000007"
      ]
     },
     "execution_count": 23,
     "metadata": {},
     "output_type": "execute_result"
    }
   ],
   "source": [
    "# Interquartile range\n",
    "from scipy.stats import iqr\n",
    "iqr(iris['sepal_length'])"
   ]
  },
  {
   "cell_type": "markdown",
   "metadata": {},
   "source": [
    "## 5. Multivariate summary statistics"
   ]
  },
  {
   "cell_type": "markdown",
   "metadata": {},
   "source": [
    "Given a data set, the mean of the data objects, $\\bar{x}$, is given by\n",
    "$$ \\bar{x} = ( \\bar{x_1}, ..., \\bar{x_n} ) $$\n",
    "where $\\bar{x_i}$ is the mean of the $i^{th}$ attribute $x_i$."
   ]
  },
  {
   "cell_type": "code",
   "execution_count": 24,
   "metadata": {},
   "outputs": [
    {
     "name": "stdout",
     "output_type": "stream",
     "text": [
      "x_bar =  [5.84333333 3.054      3.75866667 1.19866667]\n"
     ]
    }
   ],
   "source": [
    "# This just means a list of the means of each of the attributes,\n",
    "# expressed mathematically as a vector.\n",
    "print(\"x_bar = \", iris.mean().values)"
   ]
  },
  {
   "cell_type": "code",
   "execution_count": 25,
   "metadata": {},
   "outputs": [
    {
     "data": {
      "text/html": [
       "<div>\n",
       "<style scoped>\n",
       "    .dataframe tbody tr th:only-of-type {\n",
       "        vertical-align: middle;\n",
       "    }\n",
       "\n",
       "    .dataframe tbody tr th {\n",
       "        vertical-align: top;\n",
       "    }\n",
       "\n",
       "    .dataframe thead th {\n",
       "        text-align: right;\n",
       "    }\n",
       "</style>\n",
       "<table border=\"1\" class=\"dataframe\">\n",
       "  <thead>\n",
       "    <tr style=\"text-align: right;\">\n",
       "      <th></th>\n",
       "      <th>sepal_length</th>\n",
       "      <th>sepal_width</th>\n",
       "      <th>petal_length</th>\n",
       "      <th>petal_width</th>\n",
       "    </tr>\n",
       "  </thead>\n",
       "  <tbody>\n",
       "    <tr>\n",
       "      <th>sepal_length</th>\n",
       "      <td>0.69</td>\n",
       "      <td>-0.04</td>\n",
       "      <td>1.27</td>\n",
       "      <td>0.52</td>\n",
       "    </tr>\n",
       "    <tr>\n",
       "      <th>sepal_width</th>\n",
       "      <td>-0.04</td>\n",
       "      <td>0.19</td>\n",
       "      <td>-0.32</td>\n",
       "      <td>-0.12</td>\n",
       "    </tr>\n",
       "    <tr>\n",
       "      <th>petal_length</th>\n",
       "      <td>1.27</td>\n",
       "      <td>-0.32</td>\n",
       "      <td>3.11</td>\n",
       "      <td>1.30</td>\n",
       "    </tr>\n",
       "    <tr>\n",
       "      <th>petal_width</th>\n",
       "      <td>0.52</td>\n",
       "      <td>-0.12</td>\n",
       "      <td>1.30</td>\n",
       "      <td>0.58</td>\n",
       "    </tr>\n",
       "  </tbody>\n",
       "</table>\n",
       "</div>"
      ],
      "text/plain": [
       "              sepal_length  sepal_width  petal_length  petal_width\n",
       "sepal_length          0.69        -0.04          1.27         0.52\n",
       "sepal_width          -0.04         0.19         -0.32        -0.12\n",
       "petal_length          1.27        -0.32          3.11         1.30\n",
       "petal_width           0.52        -0.12          1.30         0.58"
      ]
     },
     "execution_count": 25,
     "metadata": {},
     "output_type": "execute_result"
    }
   ],
   "source": [
    "# Generating a covariance matrix is easy with Pandas:\n",
    "iris.cov()"
   ]
  },
  {
   "cell_type": "markdown",
   "metadata": {},
   "source": [
    "Recall that covariance$(x_i,x_i)$ is equal to variance$(x_i)$.\n",
    "\n",
    "Thus, the diagonal contains all the variances of the attributes."
   ]
  },
  {
   "cell_type": "code",
   "execution_count": 26,
   "metadata": {},
   "outputs": [
    {
     "data": {
      "text/plain": [
       "sepal_length   0.69\n",
       "sepal_width    0.19\n",
       "petal_length   3.11\n",
       "petal_width    0.58\n",
       "dtype: float64"
      ]
     },
     "execution_count": 26,
     "metadata": {},
     "output_type": "execute_result"
    }
   ],
   "source": [
    "iris.var()"
   ]
  },
  {
   "cell_type": "markdown",
   "metadata": {},
   "source": [
    "It is not possible to judge the degree of relationship between two variables by looking at the covariance alone. So this is not terribly helpful. For this reason, we often prefer correlation. The values are in the range $[-1,1]$."
   ]
  },
  {
   "cell_type": "code",
   "execution_count": 27,
   "metadata": {},
   "outputs": [
    {
     "data": {
      "text/html": [
       "<div>\n",
       "<style scoped>\n",
       "    .dataframe tbody tr th:only-of-type {\n",
       "        vertical-align: middle;\n",
       "    }\n",
       "\n",
       "    .dataframe tbody tr th {\n",
       "        vertical-align: top;\n",
       "    }\n",
       "\n",
       "    .dataframe thead th {\n",
       "        text-align: right;\n",
       "    }\n",
       "</style>\n",
       "<table border=\"1\" class=\"dataframe\">\n",
       "  <thead>\n",
       "    <tr style=\"text-align: right;\">\n",
       "      <th></th>\n",
       "      <th>sepal_length</th>\n",
       "      <th>sepal_width</th>\n",
       "      <th>petal_length</th>\n",
       "      <th>petal_width</th>\n",
       "    </tr>\n",
       "  </thead>\n",
       "  <tbody>\n",
       "    <tr>\n",
       "      <th>sepal_length</th>\n",
       "      <td>1.00</td>\n",
       "      <td>-0.11</td>\n",
       "      <td>0.87</td>\n",
       "      <td>0.82</td>\n",
       "    </tr>\n",
       "    <tr>\n",
       "      <th>sepal_width</th>\n",
       "      <td>-0.11</td>\n",
       "      <td>1.00</td>\n",
       "      <td>-0.42</td>\n",
       "      <td>-0.36</td>\n",
       "    </tr>\n",
       "    <tr>\n",
       "      <th>petal_length</th>\n",
       "      <td>0.87</td>\n",
       "      <td>-0.42</td>\n",
       "      <td>1.00</td>\n",
       "      <td>0.96</td>\n",
       "    </tr>\n",
       "    <tr>\n",
       "      <th>petal_width</th>\n",
       "      <td>0.82</td>\n",
       "      <td>-0.36</td>\n",
       "      <td>0.96</td>\n",
       "      <td>1.00</td>\n",
       "    </tr>\n",
       "  </tbody>\n",
       "</table>\n",
       "</div>"
      ],
      "text/plain": [
       "              sepal_length  sepal_width  petal_length  petal_width\n",
       "sepal_length          1.00        -0.11          0.87         0.82\n",
       "sepal_width          -0.11         1.00         -0.42        -0.36\n",
       "petal_length          0.87        -0.42          1.00         0.96\n",
       "petal_width           0.82        -0.36          0.96         1.00"
      ]
     },
     "execution_count": 27,
     "metadata": {},
     "output_type": "execute_result"
    }
   ],
   "source": [
    "iris.corr()"
   ]
  },
  {
   "cell_type": "markdown",
   "metadata": {},
   "source": [
    "## Measures of Skewness and Kurtosis (tailed-ness)\n",
    "\n",
    "Skewness is a measure of symmetry, or more precisely, the lack of symmetry. A distribution, or data set, is symmetric if it looks the same to the left and right of the center point.\n",
    "\n",
    "Kurtosis is a measure of whether the data are heavy-tailed or light-tailed relative to a normal distribution. That is, data sets with high kurtosis tend to have heavy tails, or outliers. Data sets with low kurtosis tend to have light tails, or lack of outliers. A uniform distribution would be the extreme case.\n",
    "\n",
    "Source: [NIST](http://www.itl.nist.gov/div898/handbook/eda/section3/eda35b.htm)"
   ]
  },
  {
   "cell_type": "markdown",
   "metadata": {},
   "source": [
    "### Skewness"
   ]
  },
  {
   "cell_type": "code",
   "execution_count": 28,
   "metadata": {},
   "outputs": [],
   "source": [
    "# Let's load a few distributions\n",
    "x_norm = np.random.normal(size=10000) # Normal\n",
    "x_unif = np.random.uniform(size=10000) # Uniform\n",
    "x_cauchy = np.random.standard_cauchy(10000) # Standard Cauchy\n",
    "x_weibull = np.random.weibull(1.5, 10000) # Weibull"
   ]
  },
  {
   "cell_type": "code",
   "execution_count": 29,
   "metadata": {},
   "outputs": [
    {
     "data": {
      "image/png": "[encoded data removed]",
      "text/plain": [
       "<Figure size 1000x1000 with 4 Axes>"
      ]
     },
     "metadata": {},
     "output_type": "display_data"
    }
   ],
   "source": [
    "plt.figure(1, figsize=(10,10), dpi=100)\n",
    "\n",
    "plt.subplot(2,2,1) # nrows, ncols, index (which position?)\n",
    "plt.hist(x_norm, bins=100)\n",
    "\n",
    "plt.subplot(2,2,2)\n",
    "plt.hist(x_unif, bins=100)\n",
    "\n",
    "plt.subplot(2,2,3)\n",
    "plt.hist(x_cauchy, bins=100, range=(-10,10))\n",
    "#plt.hist(x_cauchy, bins=100)\n",
    "\n",
    "plt.subplot(2,2,4)\n",
    "plt.hist(x_weibull, bins=100)\n",
    "\n",
    "plt.show()"
   ]
  },
  {
   "cell_type": "code",
   "execution_count": 30,
   "metadata": {},
   "outputs": [
    {
     "name": "stdout",
     "output_type": "stream",
     "text": [
      "Skew(x_norm): 0.031497\n",
      "Skew(x_unif): 0.030033\n",
      "Skew(x_cauchy): 13.095277\n",
      "Skew(x_weibull): 1.058792\n"
     ]
    }
   ],
   "source": [
    "from scipy.stats import skew\n",
    "print(\"Skew(x_norm): %.6f\" % skew(x_norm))\n",
    "print(\"Skew(x_unif): %.6f\" % skew(x_unif))\n",
    "print(\"Skew(x_cauchy): %.6f\" % skew(x_cauchy))\n",
    "print(\"Skew(x_weibull): %.6f\" % skew(x_weibull))"
   ]
  },
  {
   "cell_type": "code",
   "execution_count": 31,
   "metadata": {},
   "outputs": [
    {
     "name": "stdout",
     "output_type": "stream",
     "text": [
      "Kurtosis(x_norm): -0.005389\n",
      "Kurtosis(x_unif): -1.173091\n",
      "Kurtosis(x_cauchy): 1844.601426\n",
      "Kurtosis(x_weibull): 1.279636\n"
     ]
    }
   ],
   "source": [
    "from scipy.stats import kurtosis\n",
    "print(\"Kurtosis(x_norm): %.6f\" % kurtosis(x_norm))\n",
    "print(\"Kurtosis(x_unif): %.6f\" % kurtosis(x_unif))\n",
    "print(\"Kurtosis(x_cauchy): %.6f\" % kurtosis(x_cauchy))\n",
    "print(\"Kurtosis(x_weibull): %.6f\" % kurtosis(x_weibull))"
   ]
  },
  {
   "cell_type": "code",
   "execution_count": 32,
   "metadata": {},
   "outputs": [
    {
     "data": {
      "text/plain": [
       "(-3595.1199480847054, 4286.722108020438)"
      ]
     },
     "execution_count": 32,
     "metadata": {},
     "output_type": "execute_result"
    }
   ],
   "source": [
    "x_cauchy.min(), x_cauchy.max()"
   ]
  },
  {
   "cell_type": "code",
   "execution_count": null,
   "metadata": {},
   "outputs": [],
   "source": []
  }
 ],
 "metadata": {
  "kernelspec": {
   "display_name": "Python 3",
   "language": "python",
   "name": "python3"
  },
  "language_info": {
   "codemirror_mode": {
    "name": "ipython",
    "version": 3
   },
   "file_extension": ".py",
   "mimetype": "text/x-python",
   "name": "python",
   "nbconvert_exporter": "python",
   "pygments_lexer": "ipython3",
   "version": "3.6.5"
  }
 },
 "nbformat": 4,
 "nbformat_minor": 2
}
