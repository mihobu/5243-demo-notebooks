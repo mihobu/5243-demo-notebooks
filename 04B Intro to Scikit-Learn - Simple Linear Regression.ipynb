{
 "cells": [
  {
   "cell_type": "markdown",
   "metadata": {},
   "source": [
    "# Introduction to Scikit-Learn\n",
    "## Part 1. Simple Linear Regression"
   ]
  },
  {
   "cell_type": "markdown",
   "metadata": {},
   "source": [
    "### Resources\n",
    "\n",
    "#### Scikit-Learn.org\n",
    "* [Choosing the right estimator](http://scikit-learn.org/stable/tutorial/machine_learning_map/index.html)\n",
    "* [An introduction to machine learning with scikit-learn](http://scikit-learn.org/stable/tutorial/basic/tutorial.html)\n",
    "* [API Reference](http://scikit-learn.org/stable/modules/classes.html)\n",
    "\n",
    "#### Online tutorials\n",
    "\n",
    "* [Introduction to Scikit-Learn](https://www.oreilly.com/ideas/intro-to-scikit-learn) (Jake VanderPlas)\n",
    "* [Machine Learning with Scikit-Learn](http://amueller.github.io/sklearn_tutorial/) (Andreas Mueller)\n"
   ]
  },
  {
   "cell_type": "markdown",
   "metadata": {},
   "source": [
    "### Basics of the API\n",
    "\n",
    "Most of the time, you'll follow these steps when using Scikit-Learn estimators:\n",
    "\n",
    "1. Choose a class of model by importing the appropriate estimator class from Scikit-Learn.\n",
    "2. Choose model hyperparameters by instantiating this class with desired values.\n",
    "3. Arrange data into a features matrix and target vector following the discussion above.\n",
    "4. Fit the model to your data by calling the fit() method of the model instance.\n",
    "5. Apply the Model to new data:\n",
    "    * For supervised learning, often we predict labels for unknown data using the predict() method.\n",
    "    * For unsupervised learning, we often transform or infer properties of the data using the transform() or predict() method."
   ]
  },
  {
   "cell_type": "code",
   "execution_count": 1,
   "metadata": {},
   "outputs": [],
   "source": [
    "import pandas as pd\n",
    "import matplotlib.pyplot as plt\n",
    "%matplotlib inline"
   ]
  },
  {
   "cell_type": "code",
   "execution_count": 2,
   "metadata": {},
   "outputs": [
    {
     "name": "stdout",
     "output_type": "stream",
     "text": [
      "(150, 2)\n",
      "            x           y\n",
      "100 -0.291731  -27.876662\n",
      "4    1.702648  121.051667\n",
      "92   0.438472   33.089129\n"
     ]
    }
   ],
   "source": [
    "# Load a randomly generated dataset from local file.\n",
    "df = pd.read_csv('data/sklearn-intro-1-data.csv')\n",
    "print(df.shape)\n",
    "print(df.sample(3))"
   ]
  },
  {
   "cell_type": "code",
   "execution_count": 3,
   "metadata": {},
   "outputs": [
    {
     "data": {
      "image/png": "[encoded data removed]",
      "text/plain": [
       "<Figure size 600x600 with 1 Axes>"
      ]
     },
     "metadata": {},
     "output_type": "display_data"
    }
   ],
   "source": [
    "# Plot the original data\n",
    "plt.figure(figsize=(6,6), dpi=100)\n",
    "plt.scatter(df['x'], df['y'], marker='.')\n",
    "plt.title('Original data')\n",
    "plt.show()"
   ]
  },
  {
   "cell_type": "markdown",
   "metadata": {},
   "source": [
    "### Step 1: Choose a model and import the estimator from Scikit-Learn"
   ]
  },
  {
   "cell_type": "code",
   "execution_count": 4,
   "metadata": {},
   "outputs": [],
   "source": [
    "from sklearn.linear_model import LinearRegression"
   ]
  },
  {
   "cell_type": "markdown",
   "metadata": {},
   "source": [
    "### Step 2: Choose model hyperparameters by instantiating this class with desired values."
   ]
  },
  {
   "cell_type": "code",
   "execution_count": 5,
   "metadata": {},
   "outputs": [
    {
     "data": {
      "text/plain": [
       "LinearRegression(copy_X=True, fit_intercept=True, n_jobs=1, normalize=False)"
      ]
     },
     "execution_count": 5,
     "metadata": {},
     "output_type": "execute_result"
    }
   ],
   "source": [
    "clf = LinearRegression() # In this case, no hyperparameteres specified (we take defaults)\n",
    "clf"
   ]
  },
  {
   "cell_type": "markdown",
   "metadata": {},
   "source": [
    "### Step 3: Arrange data into a features matrix and target vector following the discussion above.\n",
    "\n",
    "Scikit-Learn expects the feature matrix to be a 2-dimensional array with `n_samples` rows\n",
    "and `n_features` columns."
   ]
  },
  {
   "cell_type": "code",
   "execution_count": 6,
   "metadata": {},
   "outputs": [],
   "source": [
    "# X and y must always be 2-dimensional (even if there's only one feature in X!)\n",
    "# X and y are numpy matrices (type numpy.ndarray)\n",
    "X = df['x'].values.reshape(-1, 1) # reshape to 2-dim array with 1 column\n",
    "y = df['y'].values.reshape(-1, )"
   ]
  },
  {
   "cell_type": "code",
   "execution_count": 7,
   "metadata": {},
   "outputs": [
    {
     "data": {
      "text/plain": [
       "numpy.ndarray"
      ]
     },
     "execution_count": 7,
     "metadata": {},
     "output_type": "execute_result"
    }
   ],
   "source": [
    "type(X)"
   ]
  },
  {
   "cell_type": "code",
   "execution_count": 8,
   "metadata": {},
   "outputs": [
    {
     "data": {
      "text/plain": [
       "(150, 1)"
      ]
     },
     "execution_count": 8,
     "metadata": {},
     "output_type": "execute_result"
    }
   ],
   "source": [
    "X.shape"
   ]
  },
  {
   "cell_type": "code",
   "execution_count": 9,
   "metadata": {},
   "outputs": [
    {
     "data": {
      "text/plain": [
       "array([[-1.39343747],\n",
       "       [ 0.24906239],\n",
       "       [ 0.64490935],\n",
       "       [ 0.8026941 ],\n",
       "       [ 1.70264764],\n",
       "       [ 0.80900121],\n",
       "       [-1.54315025],\n",
       "       [ 1.21039432],\n",
       "       [ 0.49830295],\n",
       "       [ 1.19107124],\n",
       "       [-0.36165835],\n",
       "       [ 0.38528895],\n",
       "       [ 0.51550592],\n",
       "       [ 0.44030397],\n",
       "       [-0.57471085],\n",
       "       [ 0.16842011],\n",
       "       [-0.57573176],\n",
       "       [ 1.47529717],\n",
       "       [-0.42033701],\n",
       "       [ 0.77926089],\n",
       "       [-0.35426696],\n",
       "       [-0.95142953],\n",
       "       [ 0.34660018],\n",
       "       [-0.22632567],\n",
       "       [-0.39631676],\n",
       "       [ 0.6592115 ],\n",
       "       [-0.70214955],\n",
       "       [ 1.82289616],\n",
       "       [-0.08887387],\n",
       "       [ 2.1632198 ],\n",
       "       [ 0.82006934],\n",
       "       [ 1.42760941],\n",
       "       [ 0.59969818],\n",
       "       [ 0.54993557],\n",
       "       [-0.87610476],\n",
       "       [-0.73225077],\n",
       "       [-2.56041965],\n",
       "       [ 0.63012769],\n",
       "       [-0.03143066],\n",
       "       [ 0.5802237 ],\n",
       "       [ 0.86666807],\n",
       "       [-1.82953002],\n",
       "       [-1.11983928],\n",
       "       [-0.8775548 ],\n",
       "       [ 0.05597963],\n",
       "       [-0.95776964],\n",
       "       [ 0.28608809],\n",
       "       [ 0.04309393],\n",
       "       [ 0.97882956],\n",
       "       [ 0.94700969],\n",
       "       [-1.07347421],\n",
       "       [ 1.51565809],\n",
       "       [ 0.10173069],\n",
       "       [-1.65866955],\n",
       "       [ 0.68912311],\n",
       "       [-1.22372643],\n",
       "       [-1.37942677],\n",
       "       [-1.05829792],\n",
       "       [-0.44392199],\n",
       "       [ 0.04705288],\n",
       "       [ 0.16669979],\n",
       "       [ 0.49054754],\n",
       "       [ 0.92079944],\n",
       "       [-0.17614319],\n",
       "       [-0.03757726],\n",
       "       [ 0.76975861],\n",
       "       [ 1.30462245],\n",
       "       [-1.37923425],\n",
       "       [-0.59914208],\n",
       "       [ 0.46950756],\n",
       "       [ 0.96489328],\n",
       "       [ 1.59197955],\n",
       "       [-2.67227885],\n",
       "       [-0.94051818],\n",
       "       [ 0.08732352],\n",
       "       [ 0.10317068],\n",
       "       [-2.02908082],\n",
       "       [ 0.55853724],\n",
       "       [ 1.34036529],\n",
       "       [ 0.90637586],\n",
       "       [ 0.45714483],\n",
       "       [ 2.0312345 ],\n",
       "       [ 0.26939468],\n",
       "       [-0.72940188],\n",
       "       [-2.38938394],\n",
       "       [-0.01275647],\n",
       "       [-0.60336477],\n",
       "       [-0.23195499],\n",
       "       [ 0.83259431],\n",
       "       [-0.63108478],\n",
       "       [ 0.66265512],\n",
       "       [ 0.96991282],\n",
       "       [ 0.43847175],\n",
       "       [ 0.97454365],\n",
       "       [-1.43891676],\n",
       "       [-0.34651757],\n",
       "       [ 0.58228482],\n",
       "       [-1.38118988],\n",
       "       [ 1.30492814],\n",
       "       [-0.26669176],\n",
       "       [-0.2917309 ],\n",
       "       [-1.05379591],\n",
       "       [-1.31871952],\n",
       "       [-1.666532  ],\n",
       "       [-1.53296482],\n",
       "       [ 0.66476579],\n",
       "       [-0.20282765],\n",
       "       [ 0.34801972],\n",
       "       [-0.49192215],\n",
       "       [ 1.28092846],\n",
       "       [ 0.07469459],\n",
       "       [ 0.228467  ],\n",
       "       [ 1.59402775],\n",
       "       [-0.07904854],\n",
       "       [ 1.04921057],\n",
       "       [ 0.29449555],\n",
       "       [-0.1766199 ],\n",
       "       [-0.60155719],\n",
       "       [-0.21737713],\n",
       "       [-0.88514037],\n",
       "       [-0.75602705],\n",
       "       [-0.37091771],\n",
       "       [ 0.62346546],\n",
       "       [ 0.59665529],\n",
       "       [ 0.05890001],\n",
       "       [ 1.21091324],\n",
       "       [-0.04193325],\n",
       "       [ 0.5737266 ],\n",
       "       [-1.72271212],\n",
       "       [-0.52357167],\n",
       "       [-0.42697503],\n",
       "       [ 0.27971889],\n",
       "       [-2.429431  ],\n",
       "       [ 0.66521013],\n",
       "       [-0.35735194],\n",
       "       [ 0.02441117],\n",
       "       [ 0.37219215],\n",
       "       [ 0.66192332],\n",
       "       [-0.02669256],\n",
       "       [ 1.07359555],\n",
       "       [-1.0538736 ],\n",
       "       [ 0.86803297],\n",
       "       [-0.13270261],\n",
       "       [ 0.92915261],\n",
       "       [ 0.31950847],\n",
       "       [ 0.00414121],\n",
       "       [ 0.51934666],\n",
       "       [ 0.14056518],\n",
       "       [-0.59645933],\n",
       "       [ 0.07412308]])"
      ]
     },
     "execution_count": 9,
     "metadata": {},
     "output_type": "execute_result"
    }
   ],
   "source": [
    "X"
   ]
  },
  {
   "cell_type": "code",
   "execution_count": 10,
   "metadata": {},
   "outputs": [
    {
     "data": {
      "text/plain": [
       "(150,)"
      ]
     },
     "execution_count": 10,
     "metadata": {},
     "output_type": "execute_result"
    }
   ],
   "source": [
    "y.shape"
   ]
  },
  {
   "cell_type": "markdown",
   "metadata": {},
   "source": [
    "### Step 5. "
   ]
  },
  {
   "cell_type": "code",
   "execution_count": 11,
   "metadata": {},
   "outputs": [],
   "source": [
    "# Split data into training and test sets:\n",
    "from sklearn.model_selection import train_test_split\n",
    "X_train, X_test, y_train, y_test = train_test_split(X, y, test_size=0.333)"
   ]
  },
  {
   "cell_type": "code",
   "execution_count": 12,
   "metadata": {},
   "outputs": [
    {
     "data": {
      "text/plain": [
       "(100, 1)"
      ]
     },
     "execution_count": 12,
     "metadata": {},
     "output_type": "execute_result"
    }
   ],
   "source": [
    "X_train.shape"
   ]
  },
  {
   "cell_type": "markdown",
   "metadata": {},
   "source": [
    "### Step 4. Fit the model to your data by calling the fit() method of the model instance."
   ]
  },
  {
   "cell_type": "code",
   "execution_count": 13,
   "metadata": {},
   "outputs": [
    {
     "data": {
      "text/plain": [
       "LinearRegression(copy_X=True, fit_intercept=True, n_jobs=1, normalize=False)"
      ]
     },
     "execution_count": 13,
     "metadata": {},
     "output_type": "execute_result"
    }
   ],
   "source": [
    "clf.fit(X_train, y_train)"
   ]
  },
  {
   "cell_type": "code",
   "execution_count": 14,
   "metadata": {},
   "outputs": [
    {
     "data": {
      "text/plain": [
       "array([53.56712926])"
      ]
     },
     "execution_count": 14,
     "metadata": {},
     "output_type": "execute_result"
    }
   ],
   "source": [
    "clf.coef_"
   ]
  },
  {
   "cell_type": "code",
   "execution_count": 15,
   "metadata": {},
   "outputs": [
    {
     "data": {
      "text/plain": [
       "2.7143517602149876"
      ]
     },
     "execution_count": 15,
     "metadata": {},
     "output_type": "execute_result"
    }
   ],
   "source": [
    "clf.intercept_"
   ]
  },
  {
   "cell_type": "code",
   "execution_count": 16,
   "metadata": {},
   "outputs": [
    {
     "data": {
      "text/plain": [
       "0.8693612239840767"
      ]
     },
     "execution_count": 16,
     "metadata": {},
     "output_type": "execute_result"
    }
   ],
   "source": [
    "# For the LinearRegression class, the score() method returns R-squared,\n",
    "# the coefficient of determination. That is, the amount of explained variance. (0 to 1)\n",
    "clf.score(X_train, y_train)"
   ]
  },
  {
   "cell_type": "markdown",
   "metadata": {},
   "source": [
    "### Step 5. Apply the Model to new data\n",
    "For supervised learning, often we predict labels for unknown data using the predict() method."
   ]
  },
  {
   "cell_type": "code",
   "execution_count": 17,
   "metadata": {},
   "outputs": [],
   "source": [
    "y_hat = clf.predict(X_test)"
   ]
  },
  {
   "cell_type": "markdown",
   "metadata": {},
   "source": [
    "Plot the test set, blue for the true data points, red for the predictions."
   ]
  },
  {
   "cell_type": "code",
   "execution_count": 18,
   "metadata": {},
   "outputs": [
    {
     "data": {
      "image/png": "[encoded data removed]",
      "text/plain": [
       "<Figure size 600x600 with 1 Axes>"
      ]
     },
     "metadata": {},
     "output_type": "display_data"
    }
   ],
   "source": [
    "plt.figure(figsize=(6,6), dpi=100)\n",
    "plt.scatter(X_test, y_test, color='blue')\n",
    "plt.scatter(X_test, y_hat, color='red')\n",
    "plt.show()"
   ]
  },
  {
   "cell_type": "code",
   "execution_count": 19,
   "metadata": {},
   "outputs": [
    {
     "name": "stdout",
     "output_type": "stream",
     "text": [
      "The equation for the fitted line is: y = 53.567x + 2.714\n"
     ]
    }
   ],
   "source": [
    "print(\"The equation for the fitted line is: y = %.3fx + %.3f\" % (clf.coef_, clf.intercept_))"
   ]
  },
  {
   "cell_type": "markdown",
   "metadata": {},
   "source": [
    "### Assess the quality of our predictions"
   ]
  },
  {
   "cell_type": "code",
   "execution_count": 20,
   "metadata": {},
   "outputs": [
    {
     "name": "stdout",
     "output_type": "stream",
     "text": [
      "1. clf.score()                : 0.846\n",
      "2. r2_score()                 : 0.846\n",
      "3. explained_variance_score() : 0.863\n"
     ]
    }
   ],
   "source": [
    "# There are three ways to get R-squared in Scikit-Learn:\n",
    "from sklearn.metrics import explained_variance_score, r2_score\n",
    "print(\"1. clf.score()                : %.3f\" % clf.score(X_test, y_test))\n",
    "print(\"2. r2_score()                 : %.3f\" % r2_score(y_test, y_hat))\n",
    "print(\"3. explained_variance_score() : %.3f\" % explained_variance_score(y_test, y_hat))"
   ]
  },
  {
   "cell_type": "code",
   "execution_count": null,
   "metadata": {},
   "outputs": [],
   "source": []
  }
 ],
 "metadata": {
  "anaconda-cloud": {},
  "kernelspec": {
   "display_name": "Python 3",
   "language": "python",
   "name": "python3"
  },
  "language_info": {
   "codemirror_mode": {
    "name": "ipython",
    "version": 3
   },
   "file_extension": ".py",
   "mimetype": "text/x-python",
   "name": "python",
   "nbconvert_exporter": "python",
   "pygments_lexer": "ipython3",
   "version": "3.6.5"
  }
 },
 "nbformat": 4,
 "nbformat_minor": 1
}
