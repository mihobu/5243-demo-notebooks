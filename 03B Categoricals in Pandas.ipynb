{
 "cells": [
  {
   "cell_type": "code",
   "execution_count": 1,
   "metadata": {},
   "outputs": [],
   "source": [
    "import pandas as pd\n",
    "from sklearn.datasets import load_boston"
   ]
  },
  {
   "cell_type": "code",
   "execution_count": 2,
   "metadata": {},
   "outputs": [
    {
     "data": {
      "text/plain": [
       "('audiology.csv', <http.client.HTTPMessage at 0x1a10a8f828>)"
      ]
     },
     "execution_count": 2,
     "metadata": {},
     "output_type": "execute_result"
    }
   ],
   "source": [
    "# Download the data file\n",
    "DATURL = \"https://archive.ics.uci.edu/ml/machine-learning-databases/audiology/audiology.standardized.data\"\n",
    "import urllib\n",
    "urllib.request.urlretrieve (DATURL, \"data/audiology.csv\")"
   ]
  },
  {
   "cell_type": "code",
   "execution_count": 3,
   "metadata": {},
   "outputs": [],
   "source": [
    "# Make up arbitrary attribute names\n",
    "attrs = ['attr{:d}'.format(x) for x in range(71)]\n",
    "df = pd.read_csv('data/audiology.csv', names=attrs)"
   ]
  },
  {
   "cell_type": "code",
   "execution_count": 4,
   "metadata": {},
   "outputs": [],
   "source": [
    "df = df[df['attr63']!='?'] # remove rows where attr63 = '?'\n",
    "df = df[df['attr63']!='unmeasured'] # remove rows where attr63 = 'unmeasured'"
   ]
  },
  {
   "cell_type": "code",
   "execution_count": 5,
   "metadata": {},
   "outputs": [
    {
     "name": "stdout",
     "output_type": "stream",
     "text": [
      "1. attr63 is currently type object\n"
     ]
    }
   ],
   "source": [
    "print(\"1. attr63 is currently type\", df.dtypes['attr63'])"
   ]
  },
  {
   "cell_type": "code",
   "execution_count": 6,
   "metadata": {},
   "outputs": [
    {
     "name": "stdout",
     "output_type": "stream",
     "text": [
      "2. attr63 is currently type category\n",
      "   ordered= False\n"
     ]
    }
   ],
   "source": [
    "# Convert to categorical\n",
    "df['attr63'] = df['attr63'].astype('category')\n",
    "# Show the type again\n",
    "print(\"2. attr63 is currently type\", df.dtypes['attr63'])\n",
    "print(\"   ordered=\", df['attr63'].cat.ordered)"
   ]
  },
  {
   "cell_type": "code",
   "execution_count": 7,
   "metadata": {},
   "outputs": [
    {
     "data": {
      "text/plain": [
       "Index(['good', 'normal', 'poor', 'very_good', 'very_poor'], dtype='object')"
      ]
     },
     "execution_count": 7,
     "metadata": {},
     "output_type": "execute_result"
    }
   ],
   "source": [
    "# Show the categories\n",
    "df['attr63'].cat.categories"
   ]
  },
  {
   "cell_type": "code",
   "execution_count": 8,
   "metadata": {},
   "outputs": [
    {
     "name": "stdout",
     "output_type": "stream",
     "text": [
      "3. attr63 is currently type category\n",
      "   ordered= True\n"
     ]
    }
   ],
   "source": [
    "# Part way there, but this is still a nominal.\n",
    "# We have to tell Pandas to treat this as ordinal AND\n",
    "# we have to tell Pandas the correct order of the values.\n",
    "# We can tell these categories have a definite order to them, so we need to fix that.\n",
    "df['attr63'] = df['attr63'].cat.set_categories(\n",
    "    ['very_poor', 'poor', 'normal', 'good', 'very_good', ],\n",
    "    ordered=True)\n",
    "# Show the type again\n",
    "print(\"3. attr63 is currently type\", df.dtypes['attr63'])\n",
    "print(\"   ordered=\", df['attr63'].cat.ordered)"
   ]
  }
 ],
 "metadata": {
  "kernelspec": {
   "display_name": "Python 3",
   "language": "python",
   "name": "python3"
  },
  "language_info": {
   "codemirror_mode": {
    "name": "ipython",
    "version": 3
   },
   "file_extension": ".py",
   "mimetype": "text/x-python",
   "name": "python",
   "nbconvert_exporter": "python",
   "pygments_lexer": "ipython3",
   "version": "3.6.5"
  }
 },
 "nbformat": 4,
 "nbformat_minor": 2
}
