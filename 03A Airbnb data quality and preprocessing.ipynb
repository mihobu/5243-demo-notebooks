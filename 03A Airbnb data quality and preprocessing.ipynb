{
 "cells": [
  {
   "cell_type": "markdown",
   "metadata": {},
   "source": [
    "![airbnb](https://kaggle2.blob.core.windows.net/competitions/kaggle/4651/logos/front_page.png)\n",
    "\n",
    "# Airbnb New User Bookings\n",
    "### Exploratory Data Analysis, part 1\n",
    "\n",
    "In this notebook, we'll do some data quality checking and data preprocessing using a dataset from the\n",
    "**Airbnb New User Bookings** [Kaggle competition](https://www.kaggle.com/c/airbnb-recruiting-new-user-bookings)."
   ]
  },
  {
   "cell_type": "markdown",
   "metadata": {},
   "source": [
    "## 1. Get the data\n",
    "\n",
    "The dataset for this assignment is part of a [Kaggle recruiting competition](https://www.kaggle.com/c/airbnb-recruiting-new-user-bookings), and comprises [five data files](https://www.kaggle.com/c/airbnb-recruiting-new-user-bookings/data), as follows:\n",
    "\n",
    "    age_gender_bkts.csv - users' age group, gender, country of destination\n",
    "    countries.csv       - destination countries in this dataset and their locations\n",
    "    sessions.csv        - log of user web sessions\n",
    "    test_users.csv      - test set of users \n",
    "    train_users.csv     - training set of users"
   ]
  },
  {
   "cell_type": "markdown",
   "metadata": {},
   "source": [
    "## 1. Business Understanding\n",
    "\n",
    "### Determine Business Objectives\n",
    "\n",
    "Airbnb is private company that operates an online travel website where people can list, find, and book rental lodgings. According to [Wikipedia](https://en.wikipedia.org/wiki/Airbnb), the site currently has over 1.5 million listings in 190 countries.\n",
    "The business objective of this data mining activity is to enable Airbnb to\n",
    "* Personalize content to its customers,\n",
    "* Reduce the time it takes for a new customer to book their first Airbnb experience, and\n",
    "* Better forecast demand.\n",
    "\n",
    "According to Airbnb's [Terms of Service](https://www.airbnb.com/terms), the site is \"intended solely for persons who are 18 or older.\"\n",
    "\n",
    "### Determine Data Mining Goals\n",
    "\n",
    "The goal of the data mining effort is to **predict which country a new user will choose to book their first Airbnb experience,** at a 95% confidence level.\n",
    "\n",
    "Because the Kaggle competition will close prior to the end of the semester, it will not be possible to submit an entry for consideration. However, we will produce a solution according to the posted requirements and, if possible, submit it for scoring. The [submission file](https://www.kaggle.com/c/airbnb-recruiting-new-user-bookings/details/evaluation) must be a CSV file with a header row and two columns (id and country). A perfect model will return a score of 1.0, so an effective prediction algorithm will return a score that is high on a scale of 0 to 1."
   ]
  },
  {
   "cell_type": "markdown",
   "metadata": {},
   "source": [
    "## Part 2. Data Understanding"
   ]
  },
  {
   "cell_type": "markdown",
   "metadata": {},
   "source": [
    "### Codebook\n",
    "This section summarizes and describes the meaning and type of data (scale, values, etc.) for every attribute in each of the five original data files. The descriptions also include some basic statistics, such as the range of values, scale, minimums, maximums, and so forth, as appropriate."
   ]
  },
  {
   "cell_type": "markdown",
   "metadata": {},
   "source": [
    "#### age_gender_buckets.csv (1 of 5)\n",
    "This file contains demographic data about 10 destination countries. The fields include country identifier, age group, gender, and population for the combination of age group and gender. The year when the data were collected is also included.\n",
    "There are 420 records. The table below describes the variables in this data file:\n",
    "\n",
    "Pos.|Variable|Type|Description|Range\n",
    "---:|---|:---:|---|---\n",
    "1|age_bucket|String|Used as a categorical variable to designate age 5-year age groups. (e.g. 25–29 years old)|Every 5-year age range from \"0–4\" to \"95–99\", plus a \"100+\" category (21 unique values)\n",
    "2|country_destination|String|Two-letter ISO-3166-1 alpha-2 country code|\"AU\" (Australia), \"CA\" (Canada), \"DE\" (Germany), \"ES\" (Spain), \"FR\" (France), \"GB\" (United Kingdom), \"IT\" (Italy), \"NL\" (Netherlands), \"PT\" (Portugal), and \"US\" (United States) (10 unique values)\n",
    "3|gender|String|Gender of user|\"male\" and \"female\" (2 unique values)\n",
    "4|population_in_thousands|Numeric (integer)|Population, in thousands, of people in the destination country of a specific gender and age range. (Although these values are represented in the data file as floating point numbers, none have a non-zero decimal component.)|Min: 0<br>Max:11,601\n",
    "5|year|Numeric (integer)|Year in which the demographic data was observed (assumed; no information provided)|2015 (all records same)\n"
   ]
  },
  {
   "cell_type": "markdown",
   "metadata": {},
   "source": [
    "#### countries.csv (2 of 5)\n",
    "This data file contains additional descriptive information about the destination countries, identified by two-character codes. For each of 10 destination countries, the data file also includes the approximate location of the country (latitude and longitude), its distance from the United States, the country's geographic size, the primary language spoken there, and a measure of how different that language is from English. There are 10 records in the data file. The following table lists the variables in this data file:\n",
    "\n",
    "Pos.|Variable|Type|Description|Range/Values\n",
    "---:|---|:---:|---|---\n",
    "1|country_destination|String|Two-letter ISO-3166-1 alpha-2 country code|Same as in age_gender_buckets.csv\n",
    "2|lat_destination|Numeric (signed float)|Location of approximate geographic center of the destination country (degrees latitude; negative values indicate south latitudes)|Range: -90 to 90<br>Min: -26.85<br>Max: 62.39\n",
    "3|lng_destination|Numeric (signed float)|Location of approximate geographic center of the destination country (degrees longitude; negative values indicate west longitudes)|Range: -180 to 180<br>Min: -96.82<br>Max: 133.28\n",
    "4|distance_km|Numeric (float)|Great circle distance (in kilometers) between of the United States and the destination country|Range: 0 to 20,020<br>Min: 0.0<br>Max: 15,297.7<br>Mean: 7,181.9<br>Median: 7,603.6\n",
    "5|destination_km2|Numeric (integer)|Total area (in square kilometers) of the destination country|Range: 0 to 510,100,000<br>Min: 41,543<br>Max: 9,826,675<br>Mean: 2,973,734<br>Median: 431,196\n",
    "6|destination_language|String|Primary language spoken in the destination country|\"eng\" (English), \"deu\" (German), \"spa\" (Spanish), \"fra\" (French), \"ita\" (Italian), \"nld\" (Dutch), \"por\" (Portuguese) (7 unique values)\n",
    "7|language_levenshtein_distance|Numeric (float)|The Levenshtein Distance measures the amount of difference between two sequences, usually of letters or words. In this dataset, it appears to represent the amount of difference between the primary language of the destination country and English. However, it is not clear what the values mean (scale or units) or what constitutes a \"substantial\" difference.|Min: 0.0<br>Max: 95.45<br>Mean: 50.50<br>Median: 67.92"
   ]
  },
  {
   "cell_type": "markdown",
   "metadata": {},
   "source": [
    "#### train_users.csv (3 of 5) and \n",
    "This data file contains information about the users. All users are from The United States.\n",
    "\n",
    "Pos.|Variable|Type|Description|Range/Values\n",
    "---:|---|:---:|---|---\n",
    "1|id|String|Alphanumeric string representing a unique user|231,451 unique values (each record in data file is unique)\n",
    "2|date_account_created|Date|Date that the user created their Airbnb account|First: 01/01/2010<br>Last: 06/30/2014<br>(1,634 unique dates)\n",
    "3|timestamp_first_active|Date/time|Ostensibly, the date and time of the user's first activity on the site. See \"Data Quality\" note 2.|First: 01/01/1970 05:34:50<br>Last: 01/01/1970 05:35:40\n",
    "4|date_first_booking|Date|Date of the user's first booking. Some records do not contain a value (NaN), which indicates that the user did not book a trip.|First: 01/02/2010<br>Last: 06/29/2015<br>(88,908 records with values)\n",
    "5|gender|String|The user's gender|\"-unknown-\", \"MALE\", \"FEMALE\", \"OTHER\" (4 unique values)\n",
    "6|age|Numeric (integer)|The user's age. See \"Data Quality\" note 3.|Min: 1<br>Max:2,014<br>Null values: 87,990\n",
    "7|signup_method|String|The method used by the user to sign up for their Airbnb account.|\"basic\", \"facebook\", or \"google\" (3 unique values)\n",
    "8|signup_flow|Numeric (integer)|Used as a categorical variable to identify the referring page at the time the user signed up|Some (but not all) integers in the range 0 to 25 (17 unique values)\n",
    "9|language|String|The user's \"primary\" language, as two-character (ISO-639-1) codes. See \"Data Quality\" note 4.|'en' (English), 'fr' (French), 'de' (German), 'es' (Spanish), 'it' (Italian), 'pt' (Portuguese), 'zh' (Chinese), 'ko' (Korean), 'ja' (Japanese), 'ru' (Russian), 'pl' (Polish), 'el' (Greek), 'sv' (Swedish), 'nl' (Dutch), 'hu' (Hungarian), 'da' (Danish), 'id' (Indonesian), 'fi' (Finnish), 'no' (Norwegian), 'tr' (Turkish), 'th' (Thai), 'cs' (Czech), 'hr' (Croatian), 'ca' (Catalan), or 'is' (Icelandic) (25 unique values)\n",
    "10|affiliate_channel|String|Marketing channel from which the user was directed when they signed up|'direct', 'seo', 'other', 'sem-non-brand', 'content', 'sem-brand', 'remarketing', or 'api' (8 unique values)\n",
    "11|affiliate_provider|String|Marketer that directed user to Airbnb|'direct', 'google', 'other', 'craigslist', 'facebook', 'vast', 'bing', 'meetup', 'facebook-open-graph', 'email-marketing', 'yahoo', 'padmapper', 'gsp', 'wayn', 'naver', 'baidu', 'yandex', or 'daum' (18 unique values)\n",
    "12|first_affiliate_tracked|String|First marketing the user interacted with before the signing up|'untracked', 'omg', nan, 'linked', 'tracked-other', 'product', 'marketing', or 'local ops' (8 unique values)\n",
    "13|signup_app|String|The app platform that the user used to create their account|'Web', 'Moweb', 'iOS', or 'Android'\n",
    "14|first_device_type|String|The device type that the user used to create their account|'Mac Desktop', 'Windows Desktop', 'iPhone', 'Other/Unknown', 'Desktop (Other)', 'Android Tablet', 'iPad', 'Android Phone', or 'SmartPhone (Other)'\n",
    "15|first_browser|String|Browser the user used to create their account|'Chrome', 'IE', 'Firefox', 'Safari', '-unknown-', 'Mobile Safari', 'Chrome Mobile', 'RockMelt', 'Chromium', 'Android Browser', 'AOL Explorer', 'Palm Pre web browser', 'Mobile Firefox', 'Opera', 'TenFourFox', 'IE Mobile', 'Apple Mail', 'Silk', 'Camino', 'Arora', 'BlackBerry Browser', 'SeaMonkey', 'Iron', 'Sogou Explorer', 'IceWeasel', 'Opera Mini', 'SiteKiosk', 'Maxthon', 'Kindle Browser', 'CoolNovo', 'Conkeror', 'wOSBrowser', 'Google Earth', 'Crazy Browser', 'Mozilla', 'OmniWeb', 'PS Vita browser', 'NetNewsWire', 'CometBird', 'Comodo Dragon', 'Flock', 'Pale Moon', 'Avant Browser', 'Opera Mobile', 'Yandex.Browser', 'TheWorld Browser', 'SlimBrowser', 'Epic', 'Stainless', 'Googlebot', 'Outlook 2007', or 'IceDragon' (52 unique values)\n",
    "16|country_destination|String|Country of user's first booking|'US', 'FR', 'CA', 'GB', 'ES', 'IT', 'PT', 'NL', 'DE', 'AU', 'NDF' (No destination found), or 'other' (12 unique values)"
   ]
  },
  {
   "cell_type": "markdown",
   "metadata": {},
   "source": [
    "#### test_users_2.csv (4 of 5)\n",
    "Same as **train_users.csv**, except that the **country_destination** field is not present."
   ]
  },
  {
   "cell_type": "markdown",
   "metadata": {
    "collapsed": true
   },
   "source": [
    "#### sessions.csv (5 of 5)\n",
    "\n",
    "The sessions file contains a log of activities of selected visitors to the Airbnb site. Each record represents a single interaction—a page view, for example—by a user with the site. There are 10,567,737 records in the data file. \n",
    "\n",
    "Pos.|Variable|Type|Description|Range/Values\n",
    "---:|---|:---:|---|---\n",
    "1|user_id|String|Alphanumeric string representing a unique user|135,484 unique user IDs\n",
    "2|action|String|The specific interaction a user had with the site.|There are 360 unique values, so they are not all listed here. The most common type is \"show\", which occurs over 2.7 million times. Other top values include \"index\", \"search_results\", \"personalize\", and \"search\".\n",
    "3|action_type|String|A more general category of interaction. See \"Data Quality\" note 5.|nan, 'click', 'data', 'view', 'submit', 'message_post', '-unknown-', 'booking_request', 'partner_callback', 'booking_response', or 'modify' (11 unique values)\n",
    "4|action_detail|String|A slightly more detailed description of the user's interaction than the \"action\" field.|There are 156 unique values, the most common of which are \"view_search_results\", \"p3\", and \"-unknown-\".\n",
    "5|device_type|String|The type of device that the user used for this interaction.|'Windows Desktop', '-unknown-', 'Mac Desktop', 'Android Phone', 'iPhone', 'iPad Tablet', 'Android App Unknown Phone/Tablet', 'Linux Desktop', 'Tablet', 'Chromebook', 'Blackberry', 'iPodtouch', 'Windows Phone', or 'Opera Phone' (14 unique values)\n",
    "6|secs_elapsed|Numeric (integer)|Seconds elapsed between this interaction and the one preceding it (for this user)|Min: 0<br>Max: 1,799,977<br>Mean: 19,405.8<br>Median: 1,147"
   ]
  },
  {
   "cell_type": "markdown",
   "metadata": {},
   "source": [
    "### 2.2 Initial Data Exploration and Manipulation (Individual Data Files)\n",
    "In this section, we begin to explore the data files **separately** in order to understand what's going in with each of the attributes, to identify potential problems, and apply data manipulations (such as excluding observations or imputing data. While the steps in this section are commented, please refer to the \"Data Quality\", \"Data Imputation\", and \"Data Consolidation\" sections for more complete explanations."
   ]
  },
  {
   "cell_type": "code",
   "execution_count": 1,
   "metadata": {},
   "outputs": [],
   "source": [
    "# Load libraries\n",
    "import pandas as pd\n",
    "import numpy as np"
   ]
  },
  {
   "cell_type": "markdown",
   "metadata": {},
   "source": [
    "#### age_gender_bkts.csv"
   ]
  },
  {
   "cell_type": "code",
   "execution_count": 2,
   "metadata": {},
   "outputs": [],
   "source": [
    "# read in the csv file\n",
    "df_agb = pd.read_csv('age_gender_bkts.csv')"
   ]
  },
  {
   "cell_type": "code",
   "execution_count": 3,
   "metadata": {},
   "outputs": [
    {
     "data": {
      "text/html": [
       "<div>\n",
       "<style scoped>\n",
       "    .dataframe tbody tr th:only-of-type {\n",
       "        vertical-align: middle;\n",
       "    }\n",
       "\n",
       "    .dataframe tbody tr th {\n",
       "        vertical-align: top;\n",
       "    }\n",
       "\n",
       "    .dataframe thead th {\n",
       "        text-align: right;\n",
       "    }\n",
       "</style>\n",
       "<table border=\"1\" class=\"dataframe\">\n",
       "  <thead>\n",
       "    <tr style=\"text-align: right;\">\n",
       "      <th></th>\n",
       "      <th>age_bucket</th>\n",
       "      <th>country_destination</th>\n",
       "      <th>gender</th>\n",
       "      <th>population_in_thousands</th>\n",
       "      <th>year</th>\n",
       "    </tr>\n",
       "  </thead>\n",
       "  <tbody>\n",
       "  </tbody>\n",
       "</table>\n",
       "</div>"
      ],
      "text/plain": [
       "Empty DataFrame\n",
       "Columns: [age_bucket, country_destination, gender, population_in_thousands, year]\n",
       "Index: []"
      ]
     },
     "execution_count": 3,
     "metadata": {},
     "output_type": "execute_result"
    }
   ],
   "source": [
    "# Show all null values\n",
    "df_agb[df_agb.isnull().any(axis=1)]"
   ]
  },
  {
   "cell_type": "markdown",
   "metadata": {},
   "source": [
    "No null values!"
   ]
  },
  {
   "cell_type": "code",
   "execution_count": 5,
   "metadata": {},
   "outputs": [
    {
     "name": "stdout",
     "output_type": "stream",
     "text": [
      "  age_bucket country_destination gender  population_in_thousands    year\n",
      "0       100+                  AU   male                      1.0  2015.0\n",
      "1      95-99                  AU   male                      9.0  2015.0\n",
      "2      90-94                  AU   male                     47.0  2015.0\n",
      "3      85-89                  AU   male                    118.0  2015.0\n",
      "4      80-84                  AU   male                    199.0  2015.0\n",
      "5      75-79                  AU   male                    298.0  2015.0\n",
      "6      70-74                  AU   male                    415.0  2015.0\n",
      "7      65-69                  AU   male                    574.0  2015.0\n",
      "8      60-64                  AU   male                    636.0  2015.0\n",
      "9      55-59                  AU   male                    714.0  2015.0\n",
      "    age_bucket country_destination  gender  population_in_thousands    year\n",
      "415      95-99                  US    male                    115.0  2015.0\n",
      "416      90-94                  US    male                    541.0  2015.0\n",
      "417      15-19                  US  female                  10570.0  2015.0\n",
      "418      85-89                  US    male                   1441.0  2015.0\n",
      "419      80-84                  US    male                   2442.0  2015.0\n"
     ]
    }
   ],
   "source": [
    "# Take a peek at the data\n",
    "print (df_agb.head(10))\n",
    "print (df_agb.tail())"
   ]
  },
  {
   "cell_type": "code",
   "execution_count": 6,
   "metadata": {},
   "outputs": [
    {
     "data": {
      "text/html": [
       "<div>\n",
       "<style scoped>\n",
       "    .dataframe tbody tr th:only-of-type {\n",
       "        vertical-align: middle;\n",
       "    }\n",
       "\n",
       "    .dataframe tbody tr th {\n",
       "        vertical-align: top;\n",
       "    }\n",
       "\n",
       "    .dataframe thead th {\n",
       "        text-align: right;\n",
       "    }\n",
       "</style>\n",
       "<table border=\"1\" class=\"dataframe\">\n",
       "  <thead>\n",
       "    <tr style=\"text-align: right;\">\n",
       "      <th></th>\n",
       "      <th>age_bucket</th>\n",
       "      <th>country_destination</th>\n",
       "      <th>gender</th>\n",
       "      <th>population_in_thousands</th>\n",
       "      <th>year</th>\n",
       "    </tr>\n",
       "  </thead>\n",
       "  <tbody>\n",
       "    <tr>\n",
       "      <th>0</th>\n",
       "      <td>100+</td>\n",
       "      <td>AU</td>\n",
       "      <td>male</td>\n",
       "      <td>1.0</td>\n",
       "      <td>2015.0</td>\n",
       "    </tr>\n",
       "    <tr>\n",
       "      <th>1</th>\n",
       "      <td>95-99</td>\n",
       "      <td>AU</td>\n",
       "      <td>male</td>\n",
       "      <td>9.0</td>\n",
       "      <td>2015.0</td>\n",
       "    </tr>\n",
       "    <tr>\n",
       "      <th>2</th>\n",
       "      <td>90-94</td>\n",
       "      <td>AU</td>\n",
       "      <td>male</td>\n",
       "      <td>47.0</td>\n",
       "      <td>2015.0</td>\n",
       "    </tr>\n",
       "    <tr>\n",
       "      <th>3</th>\n",
       "      <td>85-89</td>\n",
       "      <td>AU</td>\n",
       "      <td>male</td>\n",
       "      <td>118.0</td>\n",
       "      <td>2015.0</td>\n",
       "    </tr>\n",
       "    <tr>\n",
       "      <th>4</th>\n",
       "      <td>80-84</td>\n",
       "      <td>AU</td>\n",
       "      <td>male</td>\n",
       "      <td>199.0</td>\n",
       "      <td>2015.0</td>\n",
       "    </tr>\n",
       "  </tbody>\n",
       "</table>\n",
       "</div>"
      ],
      "text/plain": [
       "  age_bucket country_destination gender  population_in_thousands    year\n",
       "0       100+                  AU   male                      1.0  2015.0\n",
       "1      95-99                  AU   male                      9.0  2015.0\n",
       "2      90-94                  AU   male                     47.0  2015.0\n",
       "3      85-89                  AU   male                    118.0  2015.0\n",
       "4      80-84                  AU   male                    199.0  2015.0"
      ]
     },
     "execution_count": 6,
     "metadata": {},
     "output_type": "execute_result"
    }
   ],
   "source": [
    "df_agb.head()"
   ]
  },
  {
   "cell_type": "code",
   "execution_count": 7,
   "metadata": {},
   "outputs": [
    {
     "data": {
      "text/html": [
       "<div>\n",
       "<style scoped>\n",
       "    .dataframe tbody tr th:only-of-type {\n",
       "        vertical-align: middle;\n",
       "    }\n",
       "\n",
       "    .dataframe tbody tr th {\n",
       "        vertical-align: top;\n",
       "    }\n",
       "\n",
       "    .dataframe thead th {\n",
       "        text-align: right;\n",
       "    }\n",
       "</style>\n",
       "<table border=\"1\" class=\"dataframe\">\n",
       "  <thead>\n",
       "    <tr style=\"text-align: right;\">\n",
       "      <th></th>\n",
       "      <th>age_bucket</th>\n",
       "      <th>country_destination</th>\n",
       "      <th>gender</th>\n",
       "      <th>population_in_thousands</th>\n",
       "      <th>year</th>\n",
       "    </tr>\n",
       "  </thead>\n",
       "  <tbody>\n",
       "    <tr>\n",
       "      <th>64</th>\n",
       "      <td>55-59</td>\n",
       "      <td>CA</td>\n",
       "      <td>female</td>\n",
       "      <td>1305.0</td>\n",
       "      <td>2015.0</td>\n",
       "    </tr>\n",
       "    <tr>\n",
       "      <th>346</th>\n",
       "      <td>90-94</td>\n",
       "      <td>PT</td>\n",
       "      <td>female</td>\n",
       "      <td>45.0</td>\n",
       "      <td>2015.0</td>\n",
       "    </tr>\n",
       "    <tr>\n",
       "      <th>235</th>\n",
       "      <td>0-4</td>\n",
       "      <td>GB</td>\n",
       "      <td>female</td>\n",
       "      <td>1888.0</td>\n",
       "      <td>2015.0</td>\n",
       "    </tr>\n",
       "    <tr>\n",
       "      <th>307</th>\n",
       "      <td>10-14</td>\n",
       "      <td>NL</td>\n",
       "      <td>male</td>\n",
       "      <td>517.0</td>\n",
       "      <td>2015.0</td>\n",
       "    </tr>\n",
       "    <tr>\n",
       "      <th>221</th>\n",
       "      <td>60-64</td>\n",
       "      <td>GB</td>\n",
       "      <td>female</td>\n",
       "      <td>1775.0</td>\n",
       "      <td>2015.0</td>\n",
       "    </tr>\n",
       "  </tbody>\n",
       "</table>\n",
       "</div>"
      ],
      "text/plain": [
       "    age_bucket country_destination  gender  population_in_thousands    year\n",
       "64       55-59                  CA  female                   1305.0  2015.0\n",
       "346      90-94                  PT  female                     45.0  2015.0\n",
       "235        0-4                  GB  female                   1888.0  2015.0\n",
       "307      10-14                  NL    male                    517.0  2015.0\n",
       "221      60-64                  GB  female                   1775.0  2015.0"
      ]
     },
     "execution_count": 7,
     "metadata": {},
     "output_type": "execute_result"
    }
   ],
   "source": [
    "# Another way I like is to use the sample() method, which\n",
    "# lets me see several records at random. I can repeat this several times\n",
    "# or call sample() with a larger number to get a \"wider\" sense of the dataset.\n",
    "df_agb.sample(5)"
   ]
  },
  {
   "cell_type": "code",
   "execution_count": 8,
   "metadata": {},
   "outputs": [
    {
     "name": "stdout",
     "output_type": "stream",
     "text": [
      "<class 'pandas.core.frame.DataFrame'>\n",
      "RangeIndex: 420 entries, 0 to 419\n",
      "Data columns (total 5 columns):\n",
      "age_bucket                 420 non-null object\n",
      "country_destination        420 non-null object\n",
      "gender                     420 non-null object\n",
      "population_in_thousands    420 non-null float64\n",
      "year                       420 non-null float64\n",
      "dtypes: float64(2), object(3)\n",
      "memory usage: 16.5+ KB\n"
     ]
    }
   ],
   "source": [
    "# Let's examine the types. We want to know whether the types are appropriate for the data.\n",
    "df_agb.info()"
   ]
  },
  {
   "cell_type": "markdown",
   "metadata": {},
   "source": [
    "Looks like we might want to make some changes."
   ]
  },
  {
   "cell_type": "code",
   "execution_count": 9,
   "metadata": {},
   "outputs": [
    {
     "data": {
      "text/plain": [
       "80-84    20\n",
       "70-74    20\n",
       "0-4      20\n",
       "60-64    20\n",
       "45-49    20\n",
       "5-9      20\n",
       "40-44    20\n",
       "15-19    20\n",
       "75-79    20\n",
       "35-39    20\n",
       "65-69    20\n",
       "20-24    20\n",
       "100+     20\n",
       "85-89    20\n",
       "25-29    20\n",
       "10-14    20\n",
       "95-99    20\n",
       "30-34    20\n",
       "50-54    20\n",
       "55-59    20\n",
       "90-94    20\n",
       "Name: age_bucket, dtype: int64"
      ]
     },
     "execution_count": 9,
     "metadata": {},
     "output_type": "execute_result"
    }
   ],
   "source": [
    "# The first three variables look like catetoricals. Let's explore those further.\n",
    "df_agb['age_bucket'].value_counts()"
   ]
  },
  {
   "cell_type": "code",
   "execution_count": 10,
   "metadata": {},
   "outputs": [],
   "source": [
    "# Nice and neat. Let's factorize those.\n",
    "df_agb['age_bucket'] = df_agb['age_bucket'].astype('category')"
   ]
  },
  {
   "cell_type": "code",
   "execution_count": 11,
   "metadata": {},
   "outputs": [
    {
     "data": {
      "text/plain": [
       "Index(['0-4', '10-14', '100+', '15-19', '20-24', '25-29', '30-34', '35-39',\n",
       "       '40-44', '45-49', '5-9', '50-54', '55-59', '60-64', '65-69', '70-74',\n",
       "       '75-79', '80-84', '85-89', '90-94', '95-99'],\n",
       "      dtype='object')"
      ]
     },
     "execution_count": 11,
     "metadata": {},
     "output_type": "execute_result"
    }
   ],
   "source": [
    "# Now the age_bucket attribute is a categorical with these values (categories):\n",
    "df_agb['age_bucket'].cat.categories"
   ]
  },
  {
   "cell_type": "code",
   "execution_count": null,
   "metadata": {},
   "outputs": [],
   "source": []
  },
  {
   "cell_type": "code",
   "execution_count": 12,
   "metadata": {},
   "outputs": [],
   "source": [
    "# We can tell these categories have a definite order to them, so we need to fix that.\n",
    "df_agb['age_bucket'] = df_agb['age_bucket'].cat.set_categories([\n",
    "    '0-4', '5-9', '10-14', '15-19', '20-24', '25-29', '30-34', '35-39',\n",
    "    '40-44', '45-49',  '50-54', '55-59', '60-64', '65-69', '70-74',\n",
    "    '75-79', '80-84', '85-89', '90-94', '95-99', '100+'], ordered=True)"
   ]
  },
  {
   "cell_type": "code",
   "execution_count": 13,
   "metadata": {},
   "outputs": [
    {
     "data": {
      "text/plain": [
       "Index(['0-4', '5-9', '10-14', '15-19', '20-24', '25-29', '30-34', '35-39',\n",
       "       '40-44', '45-49', '50-54', '55-59', '60-64', '65-69', '70-74', '75-79',\n",
       "       '80-84', '85-89', '90-94', '95-99', '100+'],\n",
       "      dtype='object')"
      ]
     },
     "execution_count": 13,
     "metadata": {},
     "output_type": "execute_result"
    }
   ],
   "source": [
    "df_agb['age_bucket'].cat.categories"
   ]
  },
  {
   "cell_type": "code",
   "execution_count": 14,
   "metadata": {},
   "outputs": [
    {
     "data": {
      "text/plain": [
       "CA    42\n",
       "FR    42\n",
       "ES    42\n",
       "AU    42\n",
       "NL    42\n",
       "GB    42\n",
       "IT    42\n",
       "DE    42\n",
       "US    42\n",
       "PT    42\n",
       "Name: country_destination, dtype: int64"
      ]
     },
     "execution_count": 14,
     "metadata": {},
     "output_type": "execute_result"
    }
   ],
   "source": [
    "# Let's look at country_destination\n",
    "df_agb['country_destination'].value_counts()"
   ]
  },
  {
   "cell_type": "code",
   "execution_count": 15,
   "metadata": {},
   "outputs": [],
   "source": [
    "# (So far, this seems like a nice clean dataset.)\n",
    "# These are nominals, so we don't need to worry about order this time.\n",
    "df_agb['country_destination'] = df_agb['country_destination'].astype('category')"
   ]
  },
  {
   "cell_type": "code",
   "execution_count": 16,
   "metadata": {},
   "outputs": [
    {
     "data": {
      "text/plain": [
       "female    210\n",
       "male      210\n",
       "Name: gender, dtype: int64"
      ]
     },
     "execution_count": 16,
     "metadata": {},
     "output_type": "execute_result"
    }
   ],
   "source": [
    "# Now let's look at gender.\n",
    "df_agb['gender'].value_counts()"
   ]
  },
  {
   "cell_type": "code",
   "execution_count": 17,
   "metadata": {},
   "outputs": [],
   "source": [
    "# No surprises found, so let's convert to nominal\n",
    "df_agb['gender'] = df_agb['gender'].astype('category')"
   ]
  },
  {
   "cell_type": "code",
   "execution_count": 18,
   "metadata": {},
   "outputs": [
    {
     "name": "stdout",
     "output_type": "stream",
     "text": [
      "<class 'pandas.core.frame.DataFrame'>\n",
      "RangeIndex: 420 entries, 0 to 419\n",
      "Data columns (total 5 columns):\n",
      "age_bucket                 420 non-null category\n",
      "country_destination        420 non-null category\n",
      "gender                     420 non-null category\n",
      "population_in_thousands    420 non-null float64\n",
      "year                       420 non-null float64\n",
      "dtypes: category(3), float64(2)\n",
      "memory usage: 9.1 KB\n"
     ]
    }
   ],
   "source": [
    "# Now let's review\n",
    "df_agb.info()"
   ]
  },
  {
   "cell_type": "code",
   "execution_count": 19,
   "metadata": {},
   "outputs": [
    {
     "data": {
      "text/html": [
       "<div>\n",
       "<style scoped>\n",
       "    .dataframe tbody tr th:only-of-type {\n",
       "        vertical-align: middle;\n",
       "    }\n",
       "\n",
       "    .dataframe tbody tr th {\n",
       "        vertical-align: top;\n",
       "    }\n",
       "\n",
       "    .dataframe thead th {\n",
       "        text-align: right;\n",
       "    }\n",
       "</style>\n",
       "<table border=\"1\" class=\"dataframe\">\n",
       "  <thead>\n",
       "    <tr style=\"text-align: right;\">\n",
       "      <th></th>\n",
       "      <th>age_bucket</th>\n",
       "      <th>country_destination</th>\n",
       "      <th>gender</th>\n",
       "      <th>population_in_thousands</th>\n",
       "      <th>year</th>\n",
       "    </tr>\n",
       "  </thead>\n",
       "  <tbody>\n",
       "    <tr>\n",
       "      <th>118</th>\n",
       "      <td>15-19</td>\n",
       "      <td>DE</td>\n",
       "      <td>female</td>\n",
       "      <td>1974.0</td>\n",
       "      <td>2015.0</td>\n",
       "    </tr>\n",
       "    <tr>\n",
       "      <th>133</th>\n",
       "      <td>45-49</td>\n",
       "      <td>ES</td>\n",
       "      <td>male</td>\n",
       "      <td>1909.0</td>\n",
       "      <td>2015.0</td>\n",
       "    </tr>\n",
       "    <tr>\n",
       "      <th>272</th>\n",
       "      <td>5-9</td>\n",
       "      <td>IT</td>\n",
       "      <td>male</td>\n",
       "      <td>1473.0</td>\n",
       "      <td>2015.0</td>\n",
       "    </tr>\n",
       "    <tr>\n",
       "      <th>148</th>\n",
       "      <td>70-74</td>\n",
       "      <td>ES</td>\n",
       "      <td>male</td>\n",
       "      <td>880.0</td>\n",
       "      <td>2015.0</td>\n",
       "    </tr>\n",
       "    <tr>\n",
       "      <th>307</th>\n",
       "      <td>10-14</td>\n",
       "      <td>NL</td>\n",
       "      <td>male</td>\n",
       "      <td>517.0</td>\n",
       "      <td>2015.0</td>\n",
       "    </tr>\n",
       "  </tbody>\n",
       "</table>\n",
       "</div>"
      ],
      "text/plain": [
       "    age_bucket country_destination  gender  population_in_thousands    year\n",
       "118      15-19                  DE  female                   1974.0  2015.0\n",
       "133      45-49                  ES    male                   1909.0  2015.0\n",
       "272        5-9                  IT    male                   1473.0  2015.0\n",
       "148      70-74                  ES    male                    880.0  2015.0\n",
       "307      10-14                  NL    male                    517.0  2015.0"
      ]
     },
     "execution_count": 19,
     "metadata": {},
     "output_type": "execute_result"
    }
   ],
   "source": [
    "df_agb.sample(5)"
   ]
  },
  {
   "cell_type": "markdown",
   "metadata": {},
   "source": [
    "Should `population_in_thousands` really be an integer? Since the number represents population _in thousands_, it is reasonable that it be represented as a float. (If you were to examine the file, you'd find that none of the values has a fractional component, but there's no good reason not to keep it as a float.)"
   ]
  },
  {
   "cell_type": "code",
   "execution_count": 20,
   "metadata": {},
   "outputs": [
    {
     "data": {
      "text/plain": [
       "count      420.000000\n",
       "mean      1743.133333\n",
       "std       2509.843202\n",
       "min          0.000000\n",
       "25%        396.500000\n",
       "50%       1090.500000\n",
       "75%       1968.000000\n",
       "max      11601.000000\n",
       "Name: population_in_thousands, dtype: float64"
      ]
     },
     "execution_count": 20,
     "metadata": {},
     "output_type": "execute_result"
    }
   ],
   "source": [
    "df_agb['population_in_thousands'].describe()"
   ]
  },
  {
   "cell_type": "markdown",
   "metadata": {},
   "source": [
    "Could the presence of zeros indicate missing values?"
   ]
  },
  {
   "cell_type": "code",
   "execution_count": 21,
   "metadata": {},
   "outputs": [
    {
     "data": {
      "text/html": [
       "<div>\n",
       "<style scoped>\n",
       "    .dataframe tbody tr th:only-of-type {\n",
       "        vertical-align: middle;\n",
       "    }\n",
       "\n",
       "    .dataframe tbody tr th {\n",
       "        vertical-align: top;\n",
       "    }\n",
       "\n",
       "    .dataframe thead th {\n",
       "        text-align: right;\n",
       "    }\n",
       "</style>\n",
       "<table border=\"1\" class=\"dataframe\">\n",
       "  <thead>\n",
       "    <tr style=\"text-align: right;\">\n",
       "      <th></th>\n",
       "      <th>age_bucket</th>\n",
       "      <th>country_destination</th>\n",
       "      <th>gender</th>\n",
       "      <th>population_in_thousands</th>\n",
       "      <th>year</th>\n",
       "    </tr>\n",
       "  </thead>\n",
       "  <tbody>\n",
       "    <tr>\n",
       "      <th>328</th>\n",
       "      <td>100+</td>\n",
       "      <td>NL</td>\n",
       "      <td>male</td>\n",
       "      <td>0.0</td>\n",
       "      <td>2015.0</td>\n",
       "    </tr>\n",
       "    <tr>\n",
       "      <th>358</th>\n",
       "      <td>100+</td>\n",
       "      <td>PT</td>\n",
       "      <td>male</td>\n",
       "      <td>0.0</td>\n",
       "      <td>2015.0</td>\n",
       "    </tr>\n",
       "  </tbody>\n",
       "</table>\n",
       "</div>"
      ],
      "text/plain": [
       "    age_bucket country_destination gender  population_in_thousands    year\n",
       "328       100+                  NL   male                      0.0  2015.0\n",
       "358       100+                  PT   male                      0.0  2015.0"
      ]
     },
     "execution_count": 21,
     "metadata": {},
     "output_type": "execute_result"
    }
   ],
   "source": [
    "# Minimum value of 0.0 is a red flag. What's going on here?\n",
    "df_agb[df_agb['population_in_thousands'] == 0]"
   ]
  },
  {
   "cell_type": "markdown",
   "metadata": {},
   "source": [
    "If we think about what this data table is telling us, we realize this is perfectly legitimate.\n",
    "We're going to leave `population_in_thousands` as is.\n",
    "\n",
    "Now let's look at `year`."
   ]
  },
  {
   "cell_type": "code",
   "execution_count": 22,
   "metadata": {},
   "outputs": [
    {
     "data": {
      "text/html": [
       "<div>\n",
       "<style scoped>\n",
       "    .dataframe tbody tr th:only-of-type {\n",
       "        vertical-align: middle;\n",
       "    }\n",
       "\n",
       "    .dataframe tbody tr th {\n",
       "        vertical-align: top;\n",
       "    }\n",
       "\n",
       "    .dataframe thead th {\n",
       "        text-align: right;\n",
       "    }\n",
       "</style>\n",
       "<table border=\"1\" class=\"dataframe\">\n",
       "  <thead>\n",
       "    <tr style=\"text-align: right;\">\n",
       "      <th></th>\n",
       "      <th>age_bucket</th>\n",
       "      <th>country_destination</th>\n",
       "      <th>gender</th>\n",
       "      <th>population_in_thousands</th>\n",
       "      <th>year</th>\n",
       "    </tr>\n",
       "  </thead>\n",
       "  <tbody>\n",
       "  </tbody>\n",
       "</table>\n",
       "</div>"
      ],
      "text/plain": [
       "Empty DataFrame\n",
       "Columns: [age_bucket, country_destination, gender, population_in_thousands, year]\n",
       "Index: []"
      ]
     },
     "execution_count": 22,
     "metadata": {},
     "output_type": "execute_result"
    }
   ],
   "source": [
    "df_agb[df_agb['year'].isnull()]"
   ]
  },
  {
   "cell_type": "markdown",
   "metadata": {},
   "source": [
    "That's weird. Why did those come in as floats rather than integers?\n",
    "\n",
    "The answer is that the year attribute actually includes the decimal place in the data file!"
   ]
  },
  {
   "cell_type": "code",
   "execution_count": 23,
   "metadata": {},
   "outputs": [],
   "source": [
    "# Ordinarily, we would convert year to integer...\n",
    "df_agb['year'] = df_agb['year'].astype('int')"
   ]
  },
  {
   "cell_type": "code",
   "execution_count": 24,
   "metadata": {},
   "outputs": [],
   "source": [
    "# ... but since every record has the same value for year,\n",
    "# it's not really useful. We can simply remove it.\n",
    "del df_agb['year']"
   ]
  },
  {
   "cell_type": "code",
   "execution_count": null,
   "metadata": {},
   "outputs": [],
   "source": [
    "# One last look:\n",
    "df_agb.sample(5)"
   ]
  },
  {
   "cell_type": "markdown",
   "metadata": {},
   "source": [
    "---\n",
    "\n",
    "That was a pretty clean dataset, so we didn't have much work to do.\n",
    "Let's look at a slightly more difficult dataset now.\n"
   ]
  },
  {
   "cell_type": "markdown",
   "metadata": {},
   "source": [
    "### train_users.csv"
   ]
  },
  {
   "cell_type": "code",
   "execution_count": null,
   "metadata": {},
   "outputs": [],
   "source": [
    "# read in the csv file\n",
    "df_train_users = pd.read_csv('train_users_2.csv')"
   ]
  },
  {
   "cell_type": "code",
   "execution_count": null,
   "metadata": {},
   "outputs": [],
   "source": [
    "df_train_users.info()"
   ]
  },
  {
   "cell_type": "code",
   "execution_count": null,
   "metadata": {},
   "outputs": [],
   "source": [
    "# Let's take a peek at the data\n",
    "df_train_users.sample(5)"
   ]
  },
  {
   "cell_type": "markdown",
   "metadata": {},
   "source": [
    "The `id` attribute is just an arbitrary string, so we can leave that alone."
   ]
  },
  {
   "cell_type": "markdown",
   "metadata": {},
   "source": [
    "Looks like we have some date attributes. We can convert those to datetime types."
   ]
  },
  {
   "cell_type": "code",
   "execution_count": null,
   "metadata": {},
   "outputs": [],
   "source": [
    "# convert select fields to datetime object\n",
    "df_train_users['date_account_created'] = pd.to_datetime(df_train_users['date_account_created'])\n",
    "df_train_users['timestamp_first_active'] = pd.to_datetime(df_train_users['timestamp_first_active'])\n",
    "df_train_users['date_first_booking'] = pd.to_datetime(df_train_users['date_first_booking'])"
   ]
  },
  {
   "cell_type": "code",
   "execution_count": null,
   "metadata": {},
   "outputs": [],
   "source": [
    "df_train_users['date_account_created'].describe()"
   ]
  },
  {
   "cell_type": "markdown",
   "metadata": {},
   "source": [
    "It doesn't look like there are any missing or extreme values."
   ]
  },
  {
   "cell_type": "code",
   "execution_count": null,
   "metadata": {},
   "outputs": [],
   "source": [
    "# If we want, we can look at several attributes at once by\n",
    "# referencing a list instead of a single attribute name.\n",
    "df_train_users[['timestamp_first_active', 'date_first_booking']].describe()"
   ]
  },
  {
   "cell_type": "markdown",
   "metadata": {},
   "source": [
    "Now we see something suspicious! January 1, 1970 (or sometimes December 31, 1969) is a meaningful date -- the beginning of the Unix epoch. The output above tells us that ALL the values are some time on Jan 1, 1970.\n",
    "We know this is a bogus date, so we don't have much choice but to drop the attribute."
   ]
  },
  {
   "cell_type": "code",
   "execution_count": null,
   "metadata": {},
   "outputs": [],
   "source": [
    "del df_train_users['timestamp_first_active']"
   ]
  },
  {
   "cell_type": "markdown",
   "metadata": {},
   "source": [
    "Did you notice that only 88,908 rows have a value in the `date_first_booking` attribute? Is this a problem?\n",
    "\n",
    "No, it's not. The reason is that it is totally reasonable that some users have not yet booked a first trip using Airbnb. This is important information."
   ]
  },
  {
   "cell_type": "markdown",
   "metadata": {},
   "source": [
    "---"
   ]
  },
  {
   "cell_type": "code",
   "execution_count": null,
   "metadata": {},
   "outputs": [],
   "source": [
    "# Let's look at the numeric attributes.\n",
    "# Turns out there's only one! (age)\n",
    "df_train_users['age'].describe()"
   ]
  },
  {
   "cell_type": "code",
   "execution_count": null,
   "metadata": {},
   "outputs": [],
   "source": [
    "# set precision for displaying number in a nice format\n",
    "pd.options.display.float_format = '{:.3f}'.format\n",
    "np.set_printoptions(precision=3, suppress=True)"
   ]
  },
  {
   "cell_type": "code",
   "execution_count": null,
   "metadata": {},
   "outputs": [],
   "source": [
    "# Right away we see problems. 2014 is probably not a user's age!\n",
    "np.sort(df_train_users['age'].unique())"
   ]
  },
  {
   "cell_type": "markdown",
   "metadata": {},
   "source": [
    "Obviously, there are some bogus values here. Let's drill down."
   ]
  },
  {
   "cell_type": "code",
   "execution_count": null,
   "metadata": {},
   "outputs": [],
   "source": [
    "# The Airbnb terms of service state that users must be at least 18 years old.\n",
    "print (\"Number of users less than 18 years old :\",  sum(df_train_users.age < 18))\n",
    "\n",
    "# We feel (quite arbitrarily) that ages greater than 95 are realistic.\n",
    "print (\"Number of users over 95 years old :\",  sum(df_train_users.age > 95))"
   ]
  },
  {
   "cell_type": "code",
   "execution_count": null,
   "metadata": {},
   "outputs": [],
   "source": [
    "# Fill the records in which age < 18 or age > 95 with the NaN\n",
    "df_train_users.loc[df_train_users.age > 95, 'age'] = np.nan\n",
    "df_train_users.loc[df_train_users.age < 18, 'age'] = np.nan"
   ]
  },
  {
   "cell_type": "code",
   "execution_count": null,
   "metadata": {},
   "outputs": [],
   "source": [
    "# Show basic statistics for age (BEFORE IMPUTATION)\n",
    "print(\"The mean age is %.2f\" % df_train_users['age'].mean())\n",
    "print(\"The median age is %.2f\" % df_train_users['age'].median())\n",
    "print(\"There are %d null age values.\" % len(df_train_users[df_train_users['age'].isnull()]))"
   ]
  },
  {
   "cell_type": "markdown",
   "metadata": {},
   "source": [
    "There are 90,586 records with no \"age\" value. In addition, there are many observations with values that don't make sense. Minimum age is 1 and maximum age is 2014. There seems to be a some data quality issues with age, where the user has been able to enter an arbitrary age. We will impute using median values, grouped by `country_destination`,\n",
    "`gender`, and `signup_app`."
   ]
  },
  {
   "cell_type": "code",
   "execution_count": null,
   "metadata": {},
   "outputs": [],
   "source": [
    "# Impute those with the median age, grouped by gender and signup app.\n",
    "print (\"-\" * 60)\n",
    "print (\"Performing imputation now\")\n",
    "df_train_users['age'].fillna(df_train_users.groupby(by=['country_destination','gender','signup_app'])['age'].transform(\"median\"),inplace=True)\n",
    "print (\"Imputation complete.\")\n",
    "print (\"-\" * 60)"
   ]
  },
  {
   "cell_type": "code",
   "execution_count": null,
   "metadata": {},
   "outputs": [],
   "source": [
    "# Show basic statistics for age (AFTER IMPUTATION)\n",
    "print(\"The mean age is %.2f\" % df_train_users['age'].mean())\n",
    "print(\"The median age is %.2f\" % df_train_users['age'].median())\n",
    "print(\"There are %d null age values.\" % len(df_train_users[df_train_users['age'].isnull()]))"
   ]
  },
  {
   "cell_type": "code",
   "execution_count": null,
   "metadata": {},
   "outputs": [],
   "source": [
    "# Show the leftovers\n",
    "df_train_users[df_train_users['age'].isnull()]"
   ]
  },
  {
   "cell_type": "markdown",
   "metadata": {},
   "source": [
    "This user has no group. Since the dataset is quite large, we can afford to simply remove this row."
   ]
  },
  {
   "cell_type": "code",
   "execution_count": null,
   "metadata": {},
   "outputs": [],
   "source": [
    "df_train_users.drop(df_train_users.index[185728], inplace=True)"
   ]
  },
  {
   "cell_type": "code",
   "execution_count": null,
   "metadata": {},
   "outputs": [],
   "source": [
    "# Confirm:\n",
    "df_train_users[df_train_users['age'].isnull()]"
   ]
  },
  {
   "cell_type": "markdown",
   "metadata": {},
   "source": [
    "---\n",
    "\n",
    "Now let's deal with the categorical variables"
   ]
  },
  {
   "cell_type": "code",
   "execution_count": null,
   "metadata": {},
   "outputs": [],
   "source": [
    "# Let's make a list of the categorical attributes\n",
    "user_cats = ['gender', 'signup_method', 'signup_flow', 'language', 'affiliate_channel',\n",
    "            'affiliate_provider', 'first_affiliate_tracked', 'signup_app', 'first_device_type',\n",
    "            'first_browser', 'country_destination']"
   ]
  },
  {
   "cell_type": "code",
   "execution_count": null,
   "metadata": {
    "scrolled": true
   },
   "outputs": [],
   "source": [
    "# Let's examine the values and counts for each categorical variable.\n",
    "for c in user_cats:\n",
    "    print(\"----------------\")\n",
    "    print(c)\n",
    "    print(df_train_users[c].value_counts())"
   ]
  },
  {
   "cell_type": "markdown",
   "metadata": {},
   "source": [
    "Each user has exactly one \"international language preference\". At the time of writing, Airbnb permits users to have multiple languages (or no languages) associated with their profiles. We shall assume that the value in this field indicate a user's \"primary\" language."
   ]
  },
  {
   "cell_type": "markdown",
   "metadata": {},
   "source": [
    "Probably not much else to be done now. You may wish to convert the categoricals to the `category` type, as we did previously in the `age_gender_buckets` dataset."
   ]
  },
  {
   "cell_type": "markdown",
   "metadata": {},
   "source": [
    "---\n",
    "\n",
    "Let's do some feature engineering.\n",
    "\n",
    "To start, it may be useful to categorize users based on age group. One approach would be to use the\n",
    "groupings in the age_gender_buckets table. But let's consider are more coarse-grained approach instead,\n",
    "which may lend itself easier analysis. Let's try:\n",
    "\n",
    "* 18 to 40 (\"younger\" folks)\n",
    "* 41 to 60 (\"middle age\" folks)\n",
    "* over 60  (\"old\" folks)"
   ]
  },
  {
   "cell_type": "code",
   "execution_count": null,
   "metadata": {},
   "outputs": [],
   "source": [
    "# Break up the age variable and create a new age_range variable\n",
    "df_train_users['age_range'] = pd.cut(df_train_users['age'], # The series to cut up\n",
    "                                     bins=[18,41,61,1e6],   # list of cut points\n",
    "                                     labels=['from_18_to_40','from_41_to_60','Over_60'])\n",
    "# this creates a new variable"
   ]
  },
  {
   "cell_type": "code",
   "execution_count": null,
   "metadata": {},
   "outputs": [],
   "source": [
    "df_train_users.sample(5)"
   ]
  },
  {
   "cell_type": "code",
   "execution_count": null,
   "metadata": {},
   "outputs": [],
   "source": []
  },
  {
   "cell_type": "code",
   "execution_count": null,
   "metadata": {},
   "outputs": [],
   "source": []
  },
  {
   "cell_type": "code",
   "execution_count": null,
   "metadata": {},
   "outputs": [],
   "source": []
  },
  {
   "cell_type": "code",
   "execution_count": null,
   "metadata": {},
   "outputs": [],
   "source": []
  },
  {
   "cell_type": "code",
   "execution_count": null,
   "metadata": {},
   "outputs": [],
   "source": []
  },
  {
   "cell_type": "markdown",
   "metadata": {},
   "source": [
    "---\n",
    "\n",
    "### Notes\n",
    "\n",
    "* There is an error in the header row of `countries.csv`. There is an errant space at the end\n",
    "of the `destination_language` header that you'll need to remove by hand. The space may cause some\n",
    "pandas methods to break."
   ]
  },
  {
   "cell_type": "markdown",
   "metadata": {},
   "source": [
    "---\n",
    "\n",
    "---\n",
    "\n",
    "---\n",
    "\n",
    "---\n",
    "\n",
    "---"
   ]
  }
 ],
 "metadata": {
  "kernelspec": {
   "display_name": "Python 3",
   "language": "python",
   "name": "python3"
  },
  "language_info": {
   "codemirror_mode": {
    "name": "ipython",
    "version": 3
   },
   "file_extension": ".py",
   "mimetype": "text/x-python",
   "name": "python",
   "nbconvert_exporter": "python",
   "pygments_lexer": "ipython3",
   "version": "3.5.5"
  }
 },
 "nbformat": 4,
 "nbformat_minor": 1
}
